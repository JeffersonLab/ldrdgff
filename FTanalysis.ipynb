{
 "cells": [
  {
   "cell_type": "markdown",
   "id": "1a3db821-baf0-449c-b8b3-f62d1bd8d17a",
   "metadata": {},
   "source": [
    "<center><font size=5><b>Extracting harmonics of $\\phi$-dependent data in Gepard</b></font></center>"
   ]
  },
  {
   "cell_type": "markdown",
   "id": "fe578d88-bc25-43a9-962c-21141c75d479",
   "metadata": {},
   "source": [
    "# Intro"
   ]
  },
  {
   "cell_type": "code",
   "execution_count": 1,
   "id": "1b41a128-b621-4ec3-8dd0-00c6f6613f25",
   "metadata": {
    "collapsed": false,
    "jupyter": {
     "outputs_hidden": false
    }
   },
   "outputs": [],
   "source": [
    "%load_ext autoreload\n",
    "%autoreload 2"
   ]
  },
  {
   "cell_type": "code",
   "execution_count": 2,
   "id": "67773ebb-696c-49bd-b520-60ce7e14f348",
   "metadata": {
    "collapsed": false,
    "jupyter": {
     "outputs_hidden": false
    }
   },
   "outputs": [],
   "source": [
    "import numpy as np\n",
    "import pandas as pd\n",
    "import matplotlib\n",
    "import matplotlib.pyplot as plt"
   ]
  },
  {
   "cell_type": "code",
   "execution_count": 3,
   "id": "5a28542e-d854-45a5-b95f-7759497047b9",
   "metadata": {},
   "outputs": [
    {
     "name": "stdout",
     "output_type": "stream",
     "text": [
      "0.9.11\n"
     ]
    }
   ],
   "source": [
    "import gdevel as g\n",
    "print(g.__version__)"
   ]
  },
  {
   "cell_type": "code",
   "execution_count": 4,
   "id": "25b39839-611d-4280-9f71-04e99021a4b3",
   "metadata": {},
   "outputs": [
    {
     "name": "stdout",
     "output_type": "stream",
     "text": [
      "Current git branch is \"devel\" and revision hash is 6a29f18c7246e4172fd8540814631d1b4fdb0f4a\n"
     ]
    }
   ],
   "source": [
    "# This just gets my current git revision hash, in case version number above is not reliable.\n",
    "# You should comment this cell out if your Gepard installation is not git cloned from github repository.\n",
    "import os\n",
    "import subprocess\n",
    "branch = subprocess.check_output(['git', '-C', os.path.dirname(g.__file__),\n",
    "                                  'branch', '--show-current']).decode('ascii').strip()\n",
    "revhash = subprocess.check_output(['git', '-C', os.path.dirname(g.__file__),\n",
    "                                   'rev-parse', 'HEAD']).decode('ascii').strip()\n",
    "print('Current git branch is \"{}\" and revision hash is {}'.format(branch, revhash))"
   ]
  },
  {
   "cell_type": "code",
   "execution_count": 5,
   "id": "c74a5b74-55c0-4263-a93d-030cc4191666",
   "metadata": {
    "collapsed": false,
    "jupyter": {
     "outputs_hidden": false
    }
   },
   "outputs": [],
   "source": [
    "def plotpts(bin1, bin2=None, replica=None):\n",
    "    \"\"\"Plot points in bin with errorbars.\"\"\"\n",
    "    fig, ax = plt.subplots(1,1, figsize=[6,6])\n",
    "    ax.errorbar(bin1.phi.values, bin1.val.values, bin1.err.values, color='blue', linestyle='None',\n",
    "               capsize=3)\n",
    "    if isinstance(bin2, pd.DataFrame):\n",
    "        ax.errorbar(bin2.phi.values, bin2.val.values, bin2.err.values, color='red', linestyle='None',\n",
    "                   capsize=2)\n",
    "    if isinstance(replica, np.ndarray):\n",
    "        ax.plot(bin1.phi.values, replica, marker='o', color='red', linestyle='None')\n",
    "    ax.set_ylim(-0.5, 0.5)\n",
    "    ax.set_xlim(-np.pi, np.pi)\n",
    "    fig.savefig('fig')"
   ]
  },
  {
   "cell_type": "code",
   "execution_count": 6,
   "id": "26d6dced-1787-4c50-9798-37c97042f1c4",
   "metadata": {
    "hidden": true
   },
   "outputs": [],
   "source": [
    "def plotFT(dfs, cosmax, sinmax):\n",
    "    \"\"\"Plot harmonics with with errorbars.\"\"\"\n",
    "    CM = cosmax\n",
    "    SM = sinmax\n",
    "    fig, ax = plt.subplots(1,1, figsize=[6,6])\n",
    "    shift = 0\n",
    "    for df in dfs:\n",
    "        c = df.val.values[:CM+1]\n",
    "        delc = df.err.values[:CM+1]\n",
    "        s = df.val.values[CM+1:CM+SM+1]\n",
    "        dels = df.err.values[CM+1:CM+SM+1]\n",
    "        ax.errorbar(np.arange(CM+1)+shift, c, delc, linestyle='None', capsize=3,color='blue')\n",
    "        ax.errorbar(np.arange(-1,-SM-1,-1)+shift, s, dels, linestyle='None', capsize=3, color='red')\n",
    "        shift += 0.05\n",
    "    ax.axhline(linestyle='-.', color='green', linewidth=0.5)\n",
    "    ax.axvline(linestyle='-.', color='green', linewidth=0.5)\n",
    "    #ax.legend(loc=4, fontsize=14).draw_frame(1)\n",
    "    fig.savefig('fig')"
   ]
  },
  {
   "cell_type": "markdown",
   "id": "3ac96148-1c7e-448c-85a3-9f186bd925e2",
   "metadata": {},
   "source": [
    "# Basic extraction of harmonics (CLAS $A_{\\rm LU}$)"
   ]
  },
  {
   "cell_type": "code",
   "execution_count": 7,
   "id": "cc0306ec-1400-49e6-81ec-98299eb18497",
   "metadata": {},
   "outputs": [
    {
     "name": "stdout",
     "output_type": "stream",
     "text": [
      "npt x obs     collab  FTn    id  ref.        \n",
      "----------------------------------------------\n",
      "166 x ALU     CLAS    N/A    91  arXiv:1501.07052\n",
      "----------------------------------------------\n",
      "TOTAL = 166\n"
     ]
    }
   ],
   "source": [
    "g.describe_data(g.dset[91])"
   ]
  },
  {
   "cell_type": "markdown",
   "id": "dd6f1756-8de8-4b49-b0cc-6449f1be643d",
   "metadata": {},
   "source": [
    "We transform Gepard dataset into Pandas dataframe and take just some relevant columns."
   ]
  },
  {
   "cell_type": "code",
   "execution_count": 8,
   "id": "0e32899e-9c27-4755-94a6-04dc5ebd4e02",
   "metadata": {},
   "outputs": [],
   "source": [
    "dfALU = g.dset[91].df()[['Q2', 'xB', 'tm', 'phi', 'val', 'errstat', 'errsyst']]"
   ]
  },
  {
   "cell_type": "markdown",
   "id": "d74a677f-20d5-4f1d-a8ed-9f0ffd33c92c",
   "metadata": {},
   "source": [
    "Gepard's FT routines below work with `err` as uncertainty to be FT-transformed. This\n",
    "should be only statistical uncertainty, while systematic uncertainty should be added\n",
    "in quadrature after FT (if you don't decide to do some even more sophisticated approach).\n",
    "Thus we rename column with statistical uncertainties as `err`:"
   ]
  },
  {
   "cell_type": "code",
   "execution_count": 9,
   "id": "ffac6f8f-9072-4890-979c-66d6d0baf2b5",
   "metadata": {},
   "outputs": [],
   "source": [
    "dfALU.rename(columns={'errstat': 'err'}, inplace=True)"
   ]
  },
  {
   "cell_type": "markdown",
   "id": "93133bec-bd60-4dcb-8d5e-7d7b82bed264",
   "metadata": {},
   "source": [
    "Now we detect bins. (This will not work like this if mean values of bin kinematic variables are not exactly the same. In that case you have to write more sophisticated algorithm or define bins manually.)"
   ]
  },
  {
   "cell_type": "code",
   "execution_count": 10,
   "id": "44aba212-002c-4f32-9e2c-ea9448ddff9a",
   "metadata": {},
   "outputs": [
    {
     "name": "stdout",
     "output_type": "stream",
     "text": [
      "Number of all bins = 19\n"
     ]
    }
   ],
   "source": [
    "all_bins = dfALU[['Q2', 'xB', 'tm']].drop_duplicates()\n",
    "bins = all_bins.reset_index(drop=True)\n",
    "print('Number of all bins = {}'.format(len(bins)))"
   ]
  },
  {
   "cell_type": "markdown",
   "id": "3844d3cf-4616-4c97-9db9-99e6c9297c65",
   "metadata": {},
   "source": [
    "Organize bins in Python directory. (This will include `phi`, `val` and `err` as well.)"
   ]
  },
  {
   "cell_type": "code",
   "execution_count": 11,
   "id": "43d7ed39-85df-4fac-9982-399f7b53d6d2",
   "metadata": {
    "collapsed": false,
    "jupyter": {
     "outputs_hidden": false
    }
   },
   "outputs": [],
   "source": [
    "binALU = {}\n",
    "for k in range(len(bins)):\n",
    "    # binALU[k] = dfALU[np.all(dfALU[['Q2', 'xB', 'tm']] == bins.iloc[k], axis=1)]\n",
    "    binALU[k] = dfALU[dfALU[['Q2', 'xB', 'tm']].values == bins.iloc[k].values].drop_duplicates()"
   ]
  },
  {
   "cell_type": "markdown",
   "id": "a9dd52f0-fa0c-4f68-9541-47928b75b85d",
   "metadata": {},
   "source": [
    "There is a Gepard function `FTFMC` that will, for given bin, by default extract all harmonics using discrete Fourier transform and Monte Carlo uncertainty propagation."
   ]
  },
  {
   "cell_type": "code",
   "execution_count": 12,
   "id": "4cf374e6",
   "metadata": {},
   "outputs": [
    {
     "data": {
      "text/html": [
       "<div>\n",
       "<style scoped>\n",
       "    .dataframe tbody tr th:only-of-type {\n",
       "        vertical-align: middle;\n",
       "    }\n",
       "\n",
       "    .dataframe tbody tr th {\n",
       "        vertical-align: top;\n",
       "    }\n",
       "\n",
       "    .dataframe thead th {\n",
       "        text-align: right;\n",
       "    }\n",
       "</style>\n",
       "<table border=\"1\" class=\"dataframe\">\n",
       "  <thead>\n",
       "    <tr style=\"text-align: right;\">\n",
       "      <th></th>\n",
       "      <th>Q2</th>\n",
       "      <th>xB</th>\n",
       "      <th>tm</th>\n",
       "      <th>phi</th>\n",
       "      <th>val</th>\n",
       "      <th>err</th>\n",
       "      <th>errsyst</th>\n",
       "    </tr>\n",
       "  </thead>\n",
       "  <tbody>\n",
       "    <tr>\n",
       "      <th>31</th>\n",
       "      <td>1.97907</td>\n",
       "      <td>0.247267</td>\n",
       "      <td>0.135801</td>\n",
       "      <td>2.809980</td>\n",
       "      <td>0.037401</td>\n",
       "      <td>0.026475</td>\n",
       "      <td>0.01</td>\n",
       "    </tr>\n",
       "    <tr>\n",
       "      <th>32</th>\n",
       "      <td>1.97907</td>\n",
       "      <td>0.247267</td>\n",
       "      <td>0.135801</td>\n",
       "      <td>2.234021</td>\n",
       "      <td>0.173896</td>\n",
       "      <td>0.029453</td>\n",
       "      <td>0.01</td>\n",
       "    </tr>\n",
       "    <tr>\n",
       "      <th>33</th>\n",
       "      <td>1.97907</td>\n",
       "      <td>0.247267</td>\n",
       "      <td>0.135801</td>\n",
       "      <td>1.588250</td>\n",
       "      <td>0.208313</td>\n",
       "      <td>0.033546</td>\n",
       "      <td>0.01</td>\n",
       "    </tr>\n",
       "    <tr>\n",
       "      <th>34</th>\n",
       "      <td>1.97907</td>\n",
       "      <td>0.247267</td>\n",
       "      <td>0.135801</td>\n",
       "      <td>0.977384</td>\n",
       "      <td>0.164990</td>\n",
       "      <td>0.050159</td>\n",
       "      <td>0.01</td>\n",
       "    </tr>\n",
       "    <tr>\n",
       "      <th>35</th>\n",
       "      <td>1.97907</td>\n",
       "      <td>0.247267</td>\n",
       "      <td>0.135801</td>\n",
       "      <td>0.349066</td>\n",
       "      <td>0.033756</td>\n",
       "      <td>0.059323</td>\n",
       "      <td>0.01</td>\n",
       "    </tr>\n",
       "    <tr>\n",
       "      <th>36</th>\n",
       "      <td>1.97907</td>\n",
       "      <td>0.247267</td>\n",
       "      <td>0.135801</td>\n",
       "      <td>-0.331613</td>\n",
       "      <td>0.024287</td>\n",
       "      <td>0.060399</td>\n",
       "      <td>0.01</td>\n",
       "    </tr>\n",
       "    <tr>\n",
       "      <th>37</th>\n",
       "      <td>1.97907</td>\n",
       "      <td>0.247267</td>\n",
       "      <td>0.135801</td>\n",
       "      <td>-1.012291</td>\n",
       "      <td>-0.210960</td>\n",
       "      <td>0.048048</td>\n",
       "      <td>0.02</td>\n",
       "    </tr>\n",
       "    <tr>\n",
       "      <th>38</th>\n",
       "      <td>1.97907</td>\n",
       "      <td>0.247267</td>\n",
       "      <td>0.135801</td>\n",
       "      <td>-1.570796</td>\n",
       "      <td>-0.232754</td>\n",
       "      <td>0.036477</td>\n",
       "      <td>0.01</td>\n",
       "    </tr>\n",
       "    <tr>\n",
       "      <th>39</th>\n",
       "      <td>1.97907</td>\n",
       "      <td>0.247267</td>\n",
       "      <td>0.135801</td>\n",
       "      <td>-2.234021</td>\n",
       "      <td>-0.155100</td>\n",
       "      <td>0.028140</td>\n",
       "      <td>0.01</td>\n",
       "    </tr>\n",
       "    <tr>\n",
       "      <th>40</th>\n",
       "      <td>1.97907</td>\n",
       "      <td>0.247267</td>\n",
       "      <td>0.135801</td>\n",
       "      <td>-2.792527</td>\n",
       "      <td>-0.066593</td>\n",
       "      <td>0.029737</td>\n",
       "      <td>0.00</td>\n",
       "    </tr>\n",
       "  </tbody>\n",
       "</table>\n",
       "</div>"
      ],
      "text/plain": [
       "         Q2        xB        tm       phi       val       err  errsyst\n",
       "31  1.97907  0.247267  0.135801  2.809980  0.037401  0.026475     0.01\n",
       "32  1.97907  0.247267  0.135801  2.234021  0.173896  0.029453     0.01\n",
       "33  1.97907  0.247267  0.135801  1.588250  0.208313  0.033546     0.01\n",
       "34  1.97907  0.247267  0.135801  0.977384  0.164990  0.050159     0.01\n",
       "35  1.97907  0.247267  0.135801  0.349066  0.033756  0.059323     0.01\n",
       "36  1.97907  0.247267  0.135801 -0.331613  0.024287  0.060399     0.01\n",
       "37  1.97907  0.247267  0.135801 -1.012291 -0.210960  0.048048     0.02\n",
       "38  1.97907  0.247267  0.135801 -1.570796 -0.232754  0.036477     0.01\n",
       "39  1.97907  0.247267  0.135801 -2.234021 -0.155100  0.028140     0.01\n",
       "40  1.97907  0.247267  0.135801 -2.792527 -0.066593  0.029737     0.00"
      ]
     },
     "execution_count": 12,
     "metadata": {},
     "output_type": "execute_result"
    }
   ],
   "source": [
    "binALU[4]"
   ]
  },
  {
   "cell_type": "code",
   "execution_count": 13,
   "id": "351c1f36-ef7b-4dc8-84f8-06d791ec71a0",
   "metadata": {},
   "outputs": [],
   "source": [
    "dfFT = g.data.FTFMC(binALU[4])"
   ]
  },
  {
   "cell_type": "markdown",
   "id": "853eb385-c00d-4eb3-af27-6cfd845d1828",
   "metadata": {},
   "source": [
    "Be careful. Dataframe that is returned still has `phi` values but they don't make sense here (they are just kept for later cross-check). First (N-1/2) values are cosine harmonics, and rest are sine:"
   ]
  },
  {
   "cell_type": "code",
   "execution_count": 14,
   "id": "c8128fbc-e3fd-493c-846d-77008f177d80",
   "metadata": {},
   "outputs": [
    {
     "data": {
      "text/html": [
       "<div>\n",
       "<style scoped>\n",
       "    .dataframe tbody tr th:only-of-type {\n",
       "        vertical-align: middle;\n",
       "    }\n",
       "\n",
       "    .dataframe tbody tr th {\n",
       "        vertical-align: top;\n",
       "    }\n",
       "\n",
       "    .dataframe thead th {\n",
       "        text-align: right;\n",
       "    }\n",
       "</style>\n",
       "<table border=\"1\" class=\"dataframe\">\n",
       "  <thead>\n",
       "    <tr style=\"text-align: right;\">\n",
       "      <th></th>\n",
       "      <th>phi</th>\n",
       "      <th>val</th>\n",
       "      <th>err</th>\n",
       "    </tr>\n",
       "  </thead>\n",
       "  <tbody>\n",
       "    <tr>\n",
       "      <th>0</th>\n",
       "      <td>2.809980</td>\n",
       "      <td>-0.001700</td>\n",
       "      <td>0.012126</td>\n",
       "    </tr>\n",
       "    <tr>\n",
       "      <th>1</th>\n",
       "      <td>2.234021</td>\n",
       "      <td>0.013276</td>\n",
       "      <td>0.018643</td>\n",
       "    </tr>\n",
       "    <tr>\n",
       "      <th>2</th>\n",
       "      <td>1.588250</td>\n",
       "      <td>0.008914</td>\n",
       "      <td>0.019072</td>\n",
       "    </tr>\n",
       "    <tr>\n",
       "      <th>3</th>\n",
       "      <td>0.977384</td>\n",
       "      <td>0.018780</td>\n",
       "      <td>0.019396</td>\n",
       "    </tr>\n",
       "    <tr>\n",
       "      <th>4</th>\n",
       "      <td>0.349066</td>\n",
       "      <td>-0.002457</td>\n",
       "      <td>0.017810</td>\n",
       "    </tr>\n",
       "    <tr>\n",
       "      <th>5</th>\n",
       "      <td>-0.331613</td>\n",
       "      <td>0.203523</td>\n",
       "      <td>0.016950</td>\n",
       "    </tr>\n",
       "    <tr>\n",
       "      <th>6</th>\n",
       "      <td>-1.012291</td>\n",
       "      <td>-0.008782</td>\n",
       "      <td>0.018971</td>\n",
       "    </tr>\n",
       "    <tr>\n",
       "      <th>7</th>\n",
       "      <td>-1.570796</td>\n",
       "      <td>-0.028849</td>\n",
       "      <td>0.019704</td>\n",
       "    </tr>\n",
       "    <tr>\n",
       "      <th>8</th>\n",
       "      <td>-2.234021</td>\n",
       "      <td>-0.016352</td>\n",
       "      <td>0.019793</td>\n",
       "    </tr>\n",
       "    <tr>\n",
       "      <th>9</th>\n",
       "      <td>-2.792527</td>\n",
       "      <td>-0.013050</td>\n",
       "      <td>0.011220</td>\n",
       "    </tr>\n",
       "  </tbody>\n",
       "</table>\n",
       "</div>"
      ],
      "text/plain": [
       "        phi       val       err\n",
       "0  2.809980 -0.001700  0.012126\n",
       "1  2.234021  0.013276  0.018643\n",
       "2  1.588250  0.008914  0.019072\n",
       "3  0.977384  0.018780  0.019396\n",
       "4  0.349066 -0.002457  0.017810\n",
       "5 -0.331613  0.203523  0.016950\n",
       "6 -1.012291 -0.008782  0.018971\n",
       "7 -1.570796 -0.028849  0.019704\n",
       "8 -2.234021 -0.016352  0.019793\n",
       "9 -2.792527 -0.013050  0.011220"
      ]
     },
     "execution_count": 14,
     "metadata": {},
     "output_type": "execute_result"
    }
   ],
   "source": [
    "dfFT"
   ]
  },
  {
   "cell_type": "markdown",
   "id": "24ba9aeb-83a4-4546-9e3e-601d874b9f5f",
   "metadata": {},
   "source": [
    "So here above sin($\\phi$) harmonic is in row index 5. You can plot all of them:"
   ]
  },
  {
   "cell_type": "code",
   "execution_count": 15,
   "id": "fa669a8f-38fb-486e-97b5-1430f12482b0",
   "metadata": {},
   "outputs": [
    {
     "data": {
      "image/png": "[encoded data removed]",
      "text/plain": [
       "<Figure size 600x600 with 1 Axes>"
      ]
     },
     "metadata": {},
     "output_type": "display_data"
    }
   ],
   "source": [
    "plotFT([dfFT], cosmax=4, sinmax=4)"
   ]
  },
  {
   "cell_type": "markdown",
   "id": "9b344196-34e6-4551-b3da-b27170735f04",
   "metadata": {},
   "source": [
    "`FTFMC(df, inverse=True)` will do the inverse FT so you can check the whole procedure for consistency:"
   ]
  },
  {
   "cell_type": "code",
   "execution_count": 16,
   "id": "2d0073fa-d8b9-4d55-81c7-60f4c35d2164",
   "metadata": {
    "collapsed": false,
    "jupyter": {
     "outputs_hidden": false
    }
   },
   "outputs": [
    {
     "data": {
      "image/png": "[encoded data removed]",
      "text/plain": [
       "<Figure size 600x600 with 1 Axes>"
      ]
     },
     "metadata": {},
     "output_type": "display_data"
    }
   ],
   "source": [
    "plotpts(binALU[3], g.data.FTFMC(g.data.FTFMC(binALU[3]), inverse=True))"
   ]
  },
  {
   "cell_type": "markdown",
   "id": "4bc4f41f-645f-4d2a-a844-8c1c26c809cd",
   "metadata": {},
   "source": [
    "There is also a somewhat experimental function `FTanalyse` that can take a set of bins and determine by cross-validation procedure how many harmonics are \"visible\" in this data:"
   ]
  },
  {
   "cell_type": "code",
   "execution_count": 21,
   "id": "98e57bd4-27c1-4105-bf42-f0edbd78774d",
   "metadata": {},
   "outputs": [
    {
     "name": "stdout",
     "output_type": "stream",
     "text": [
      "Highest extractable cos harmonic = 0.684 +- 0.862\n",
      "Highest extractable sin harmonic = 1.316 +- 0.567\n",
      "\n"
     ]
    }
   ],
   "source": [
    "cosmax, sinmax = g.data.FTanalyse(binALU)"
   ]
  },
  {
   "cell_type": "markdown",
   "id": "d53765e2-6716-4b02-a6f2-2e2796e70cfc",
   "metadata": {},
   "source": [
    "For final harmonic analysis we increase the number of Monte Carlo samples and store the results in two new dataframe columns:"
   ]
  },
  {
   "cell_type": "code",
   "execution_count": 22,
   "id": "7c13239b-8c44-4f19-b50c-ddf9f1eea3bb",
   "metadata": {
    "collapsed": false,
    "jupyter": {
     "outputs_hidden": false
    }
   },
   "outputs": [],
   "source": [
    "for k in range(len(bins)):\n",
    "    dfFT = g.data.FTFMC(binALU[k], nsamples = 3000)\n",
    "    binALU[k]['FTval'] = pd.Series(dfFT['val'].values, index=binALU[k].index)\n",
    "    binALU[k]['FTerr'] = pd.Series(dfFT['err'].values, index=binALU[k].index)"
   ]
  },
  {
   "cell_type": "code",
   "execution_count": 23,
   "id": "462ed747-6cad-40b6-b3a8-46f6a4f04a3f",
   "metadata": {
    "collapsed": false,
    "jupyter": {
     "outputs_hidden": false
    }
   },
   "outputs": [
    {
     "data": {
      "text/html": [
       "<div>\n",
       "<style scoped>\n",
       "    .dataframe tbody tr th:only-of-type {\n",
       "        vertical-align: middle;\n",
       "    }\n",
       "\n",
       "    .dataframe tbody tr th {\n",
       "        vertical-align: top;\n",
       "    }\n",
       "\n",
       "    .dataframe thead th {\n",
       "        text-align: right;\n",
       "    }\n",
       "</style>\n",
       "<table border=\"1\" class=\"dataframe\">\n",
       "  <thead>\n",
       "    <tr style=\"text-align: right;\">\n",
       "      <th></th>\n",
       "      <th>Q2</th>\n",
       "      <th>xB</th>\n",
       "      <th>tm</th>\n",
       "      <th>phi</th>\n",
       "      <th>val</th>\n",
       "      <th>err</th>\n",
       "      <th>errsyst</th>\n",
       "      <th>FTval</th>\n",
       "      <th>FTerr</th>\n",
       "    </tr>\n",
       "  </thead>\n",
       "  <tbody>\n",
       "    <tr>\n",
       "      <th>31</th>\n",
       "      <td>1.97907</td>\n",
       "      <td>0.247267</td>\n",
       "      <td>0.135801</td>\n",
       "      <td>2.809980</td>\n",
       "      <td>0.037401</td>\n",
       "      <td>0.026475</td>\n",
       "      <td>0.01</td>\n",
       "      <td>-0.000498</td>\n",
       "      <td>0.013477</td>\n",
       "    </tr>\n",
       "    <tr>\n",
       "      <th>32</th>\n",
       "      <td>1.97907</td>\n",
       "      <td>0.247267</td>\n",
       "      <td>0.135801</td>\n",
       "      <td>2.234021</td>\n",
       "      <td>0.173896</td>\n",
       "      <td>0.029453</td>\n",
       "      <td>0.01</td>\n",
       "      <td>0.010143</td>\n",
       "      <td>0.020810</td>\n",
       "    </tr>\n",
       "    <tr>\n",
       "      <th>33</th>\n",
       "      <td>1.97907</td>\n",
       "      <td>0.247267</td>\n",
       "      <td>0.135801</td>\n",
       "      <td>1.588250</td>\n",
       "      <td>0.208313</td>\n",
       "      <td>0.033546</td>\n",
       "      <td>0.01</td>\n",
       "      <td>0.010544</td>\n",
       "      <td>0.018385</td>\n",
       "    </tr>\n",
       "    <tr>\n",
       "      <th>34</th>\n",
       "      <td>1.97907</td>\n",
       "      <td>0.247267</td>\n",
       "      <td>0.135801</td>\n",
       "      <td>0.977384</td>\n",
       "      <td>0.164990</td>\n",
       "      <td>0.050159</td>\n",
       "      <td>0.01</td>\n",
       "      <td>0.020095</td>\n",
       "      <td>0.019583</td>\n",
       "    </tr>\n",
       "    <tr>\n",
       "      <th>35</th>\n",
       "      <td>1.97907</td>\n",
       "      <td>0.247267</td>\n",
       "      <td>0.135801</td>\n",
       "      <td>0.349066</td>\n",
       "      <td>0.033756</td>\n",
       "      <td>0.059323</td>\n",
       "      <td>0.01</td>\n",
       "      <td>-0.000662</td>\n",
       "      <td>0.018042</td>\n",
       "    </tr>\n",
       "    <tr>\n",
       "      <th>36</th>\n",
       "      <td>1.97907</td>\n",
       "      <td>0.247267</td>\n",
       "      <td>0.135801</td>\n",
       "      <td>-0.331613</td>\n",
       "      <td>0.024287</td>\n",
       "      <td>0.060399</td>\n",
       "      <td>0.01</td>\n",
       "      <td>0.205036</td>\n",
       "      <td>0.017117</td>\n",
       "    </tr>\n",
       "    <tr>\n",
       "      <th>37</th>\n",
       "      <td>1.97907</td>\n",
       "      <td>0.247267</td>\n",
       "      <td>0.135801</td>\n",
       "      <td>-1.012291</td>\n",
       "      <td>-0.210960</td>\n",
       "      <td>0.048048</td>\n",
       "      <td>0.02</td>\n",
       "      <td>-0.009370</td>\n",
       "      <td>0.019068</td>\n",
       "    </tr>\n",
       "    <tr>\n",
       "      <th>38</th>\n",
       "      <td>1.97907</td>\n",
       "      <td>0.247267</td>\n",
       "      <td>0.135801</td>\n",
       "      <td>-1.570796</td>\n",
       "      <td>-0.232754</td>\n",
       "      <td>0.036477</td>\n",
       "      <td>0.01</td>\n",
       "      <td>-0.030501</td>\n",
       "      <td>0.018577</td>\n",
       "    </tr>\n",
       "    <tr>\n",
       "      <th>39</th>\n",
       "      <td>1.97907</td>\n",
       "      <td>0.247267</td>\n",
       "      <td>0.135801</td>\n",
       "      <td>-2.234021</td>\n",
       "      <td>-0.155100</td>\n",
       "      <td>0.028140</td>\n",
       "      <td>0.01</td>\n",
       "      <td>-0.019249</td>\n",
       "      <td>0.018672</td>\n",
       "    </tr>\n",
       "    <tr>\n",
       "      <th>40</th>\n",
       "      <td>1.97907</td>\n",
       "      <td>0.247267</td>\n",
       "      <td>0.135801</td>\n",
       "      <td>-2.792527</td>\n",
       "      <td>-0.066593</td>\n",
       "      <td>0.029737</td>\n",
       "      <td>0.00</td>\n",
       "      <td>-0.014862</td>\n",
       "      <td>0.012864</td>\n",
       "    </tr>\n",
       "  </tbody>\n",
       "</table>\n",
       "</div>"
      ],
      "text/plain": [
       "         Q2        xB        tm       phi       val       err  errsyst  \\\n",
       "31  1.97907  0.247267  0.135801  2.809980  0.037401  0.026475     0.01   \n",
       "32  1.97907  0.247267  0.135801  2.234021  0.173896  0.029453     0.01   \n",
       "33  1.97907  0.247267  0.135801  1.588250  0.208313  0.033546     0.01   \n",
       "34  1.97907  0.247267  0.135801  0.977384  0.164990  0.050159     0.01   \n",
       "35  1.97907  0.247267  0.135801  0.349066  0.033756  0.059323     0.01   \n",
       "36  1.97907  0.247267  0.135801 -0.331613  0.024287  0.060399     0.01   \n",
       "37  1.97907  0.247267  0.135801 -1.012291 -0.210960  0.048048     0.02   \n",
       "38  1.97907  0.247267  0.135801 -1.570796 -0.232754  0.036477     0.01   \n",
       "39  1.97907  0.247267  0.135801 -2.234021 -0.155100  0.028140     0.01   \n",
       "40  1.97907  0.247267  0.135801 -2.792527 -0.066593  0.029737     0.00   \n",
       "\n",
       "       FTval     FTerr  \n",
       "31 -0.000498  0.013477  \n",
       "32  0.010143  0.020810  \n",
       "33  0.010544  0.018385  \n",
       "34  0.020095  0.019583  \n",
       "35 -0.000662  0.018042  \n",
       "36  0.205036  0.017117  \n",
       "37 -0.009370  0.019068  \n",
       "38 -0.030501  0.018577  \n",
       "39 -0.019249  0.018672  \n",
       "40 -0.014862  0.012864  "
      ]
     },
     "execution_count": 23,
     "metadata": {},
     "output_type": "execute_result"
    }
   ],
   "source": [
    "binALU[4]"
   ]
  },
  {
   "cell_type": "code",
   "execution_count": 26,
   "id": "86975057-fed4-4ad2-baf0-3ca89f31886e",
   "metadata": {
    "collapsed": false,
    "jupyter": {
     "outputs_hidden": false
    }
   },
   "outputs": [],
   "source": [
    "def s1(bin):\n",
    "    \"\"\"Take just first sine harmonic of bin with error.\"\"\"\n",
    "    s1ind = int((len(bin)-1)/2.) + 1 # index of first sine harmonic\n",
    "    return bin[['Q2', 'xB', 'tm', 'FTval', 'FTerr']].iloc[s1ind]"
   ]
  },
  {
   "cell_type": "markdown",
   "id": "67ca4db6-65b3-4dcf-a694-420810ba97b1",
   "metadata": {},
   "source": [
    "We unite all bins, taking value and uncertainty of just calculated first sine harmonic (FTval and FTerr), and\n",
    "we also calculate average and maximal systematic error for given bin. One can than choose which of the two\n",
    "to take as the proper systematic error of the harmonic (more sophisticated treatment could be implemented here by the person who understands systematics better).\n"
   ]
  },
  {
   "cell_type": "code",
   "execution_count": 30,
   "id": "a0bc4f46-06c5-4805-bb00-dbbc506b57fd",
   "metadata": {
    "collapsed": false,
    "jupyter": {
     "outputs_hidden": false
    }
   },
   "outputs": [],
   "source": [
    "FTs1 = pd.DataFrame([pd.concat([s1(binALU[k]),\n",
    "                                pd.Series([binALU[k]['errsyst'].mean(),\n",
    "                                                     binALU[k]['errsyst'].max()], index=['avgsyst', 'maxsyst'])])\n",
    "                     for k in bins.index]).reset_index(drop=True)"
   ]
  },
  {
   "cell_type": "markdown",
   "id": "63e11fcf-f6f3-4ebb-b740-62a87eaa25b2",
   "metadata": {},
   "source": [
    "This (after maybe some reduction of significant digits) can now be saved into the new Gepard datafile with appropriate preamble:"
   ]
  },
  {
   "cell_type": "code",
   "execution_count": 31,
   "id": "3a85a154-4f67-45d7-a4a6-286a021e4112",
   "metadata": {
    "collapsed": false,
    "jupyter": {
     "outputs_hidden": false
    }
   },
   "outputs": [],
   "source": [
    "FTs1['FTval'] = FTs1['FTval'].map(lambda x: '%.3f' % x)\n",
    "FTs1['FTerr'] = FTs1['FTerr'].map(lambda x: '%.3f' % x)\n",
    "FTs1['FTerrsyst'] = FTs1['avgsyst'].map(lambda x: '%.3f' % x)   # choose maxsyst to be conservative"
   ]
  },
  {
   "cell_type": "code",
   "execution_count": 33,
   "id": "97569cab-d18d-4e2f-9c7f-55ceec93e588",
   "metadata": {},
   "outputs": [
    {
     "name": "stdout",
     "output_type": "stream",
     "text": [
      "     Q2       xB       tm FTval FTerr FTerrsyst\n",
      "1.55354 0.181084 0.128694 0.261 0.042     0.012\n",
      "1.56422 0.182261 0.230179 0.217 0.373     0.035\n",
      "1.47020 0.176380 0.475638 0.398 0.448     0.053\n",
      "1.46031 0.175596 1.081570 0.081 0.067     0.076\n",
      "1.97907 0.247267 0.135801 0.205 0.017     0.010\n",
      "2.04773 0.258542 0.227796 0.230 0.021     0.011\n",
      "1.94335 0.257897 0.457348 0.209 0.030     0.021\n",
      "1.90114 0.257321 1.194570 0.073 0.032     0.019\n",
      "2.36222 0.254504 0.137780 0.207 0.027     0.020\n",
      "2.44750 0.264769 0.228628 0.187 0.030     0.021\n",
      "2.45794 0.265476 0.443085 0.222 0.038     0.038\n",
      "2.43020 0.262357 1.141540 0.142 0.287     0.047\n",
      "2.52890 0.318722 0.157822 0.319 0.228     0.033\n",
      "2.67020 0.337185 0.240100 0.236 0.026     0.015\n",
      "2.66546 0.349578 0.455835 0.187 0.020     0.013\n",
      "2.46831 0.349998 1.191560 0.087 0.024     0.014\n",
      "3.15132 0.415190 0.271405 1.010 0.598     0.055\n",
      "3.31407 0.442331 0.506819 0.202 0.040     0.035\n",
      "3.31725 0.461373 1.159000 0.134 0.030     0.026\n"
     ]
    }
   ],
   "source": [
    "print(FTs1[['Q2', 'xB', 'tm', 'FTval', 'FTerr', 'FTerrsyst']].to_string(index=False))"
   ]
  },
  {
   "cell_type": "markdown",
   "id": "c5bf8dba-8682-40e3-86e4-c407110500eb",
   "metadata": {},
   "source": [
    "Such procedure was followed to create the Gepard datafile ID=94 (some lines are commented out\n",
    "in that datafile because of various doubts, see comments there):"
   ]
  },
  {
   "cell_type": "code",
   "execution_count": 34,
   "id": "e0831c1d-82fc-428b-a674-267e889673c5",
   "metadata": {},
   "outputs": [
    {
     "name": "stdout",
     "output_type": "stream",
     "text": [
      "     Q2       xB       tm   val  errstat  errsyst\n",
      "1.55354 0.181084 0.128694 0.259    0.042    0.012\n",
      "1.97907 0.247267 0.135801 0.205    0.017    0.010\n",
      "2.04773 0.258542 0.227796 0.231    0.022    0.011\n",
      "1.94335 0.257897 0.457348 0.210    0.030    0.021\n",
      "2.36222 0.254504 0.137780 0.206    0.027    0.020\n",
      "2.44750 0.264769 0.228628 0.187    0.031    0.021\n",
      "2.45794 0.265476 0.443085 0.223    0.038    0.038\n",
      "2.67020 0.337185 0.240100 0.236    0.026    0.015\n",
      "2.66546 0.349578 0.455835 0.187    0.021    0.013\n",
      "3.31407 0.442331 0.506819 0.204    0.041    0.035\n"
     ]
    }
   ],
   "source": [
    "print(g.dset[94].df()[['Q2', 'xB', 'tm', 'val', 'errstat', 'errsyst']].to_string(index=False))"
   ]
  },
  {
   "cell_type": "markdown",
   "id": "fc0d54ed-5465-420a-8666-09e721b1dd52",
   "metadata": {},
   "source": [
    "# Extraction of weighted harmonics (HALL A $X_{\\rm UU}$)"
   ]
  },
  {
   "cell_type": "markdown",
   "id": "24a99d3d-ba0e-4368-a613-1abdf2827cb6",
   "metadata": {},
   "source": [
    "For total cross-section, it is convenient to work with \"weighted\" harmonics, where weights are proportional to normalized inverse Bethe-Heitler propagators. See e.g. 1602.02763. Sect 2.2."
   ]
  },
  {
   "cell_type": "code",
   "execution_count": 27,
   "id": "66b0ae6b-1477-4b2c-a3c0-098189966ca2",
   "metadata": {
    "hidden": true,
    "level": 7
   },
   "outputs": [],
   "source": [
    "Sdata = g.dset[129]+g.dset[130]+g.dset[131]+g.dset[132]+g.dset[133]+g.dset[134]"
   ]
  },
  {
   "cell_type": "code",
   "execution_count": 28,
   "id": "52f938d7-6765-4085-b61a-d306895a0f5c",
   "metadata": {},
   "outputs": [
    {
     "name": "stdout",
     "output_type": "stream",
     "text": [
      "npt x obs     collab  FTn    id  ref.        \n",
      "----------------------------------------------\n",
      "36 x XUU     HALLA   N/A    129 arXiv:1703.09442\n",
      "36 x XUU     HALLA   N/A    130 arXiv:1703.09442\n",
      "96 x XUU     HALLA   N/A    131 arXiv:1703.09442\n",
      "96 x XUU     HALLA   N/A    132 arXiv:1703.09442\n",
      "96 x XUU     HALLA   N/A    133 arXiv:1703.09442\n",
      "90 x XUU     HALLA   N/A    134 arXiv:1703.09442\n",
      "----------------------------------------------\n",
      "TOTAL = 450\n"
     ]
    }
   ],
   "source": [
    "g.describe_data(Sdata)"
   ]
  },
  {
   "cell_type": "code",
   "execution_count": 29,
   "id": "ccbaf62e-4ca8-4340-84b0-395b90a98752",
   "metadata": {},
   "outputs": [],
   "source": [
    "# This precalculates needed propagators among other things\n",
    "for pt in Sdata:\n",
    "    pt.prepare()"
   ]
  },
  {
   "cell_type": "code",
   "execution_count": 30,
   "id": "52a8fd56-c2f7-42fe-9166-d362f20d0588",
   "metadata": {
    "hidden": true,
    "level": 7
   },
   "outputs": [],
   "source": [
    "# Store normalized BH propagator weights\n",
    "Swghs = [g.weight_BH(pt) for pt in Sdata]"
   ]
  },
  {
   "cell_type": "markdown",
   "id": "6bde2e83-cd93-4e93-8897-e1dec95cba00",
   "metadata": {
    "hidden": true,
    "level": 7
   },
   "source": [
    "We shall MC-propagate statistical and point-to-point asymmetric systematic error (made symmetric by taking max(err+,err-) added in quadrature. Normalization error is just added to obtained harmonics."
   ]
  },
  {
   "cell_type": "markdown",
   "id": "5ab4cb73-8635-4b73-b2de-dd5ea097de06",
   "metadata": {
    "hidden": true
   },
   "source": [
    "When datafiles are loaded, `err` , besides statistical, contains both point-to-point and normalization systematic errors, so we have to subtract normalization error before FT:\n",
    "$$\\Delta_{\\rm point-to-point} =  \\sqrt{\\Delta^2 - \\Delta_{\\rm norm}^2}$$"
   ]
  },
  {
   "cell_type": "code",
   "execution_count": 31,
   "id": "c800d030-bc97-46ab-a219-4246f1b2cd97",
   "metadata": {
    "level": 7
   },
   "outputs": [],
   "source": [
    "# weighted data, NOTE err = everything apart from normalization err !\n",
    "dfS = pd.DataFrame([(pt.in1energy, pt.Q2, pt.xB, pt.tm, pt.phi, w*pt.val, w*np.sqrt(pt.err**2-pt.errnorm**2))\n",
    "                    for pt, w in zip(Sdata, Swghs)], columns=('E', 'Q2', 'xB', 'tm', 'phi', 'val', 'err')) "
   ]
  },
  {
   "cell_type": "code",
   "execution_count": 32,
   "id": "32c117b2-a864-4d0a-921c-72bb6a8ebe63",
   "metadata": {
    "hidden": true,
    "level": 7
   },
   "outputs": [
    {
     "name": "stdout",
     "output_type": "stream",
     "text": [
      "We have 22 X_UU bins.\n"
     ]
    }
   ],
   "source": [
    "all_Sbins = dfS[['E', 'Q2', 'xB', 'tm']].drop_duplicates()\n",
    "Sbins = all_Sbins.reset_index(drop=True)\n",
    "print(\"We have {} X_UU bins.\".format(len(Sbins)))"
   ]
  },
  {
   "cell_type": "code",
   "execution_count": 33,
   "id": "01ced25d-e2e1-4ef2-a922-5b33d4cfa2bc",
   "metadata": {
    "hidden": true,
    "level": 7
   },
   "outputs": [],
   "source": [
    "binS = {}\n",
    "for k in Sbins.index:\n",
    "    # binS[k] = dfS[dfS[['E', 'Q2', 'xB', 'tm']].values == Sbins.iloc[k].values].drop_duplicates()\n",
    "    binS[k] = dfS[np.all(dfS[['E', 'Q2', 'xB', 'tm']] == Sbins.iloc[k], axis=1)]"
   ]
  },
  {
   "cell_type": "code",
   "execution_count": 34,
   "id": "ba9004ed-fa22-48d6-9f17-687d41f36fa0",
   "metadata": {},
   "outputs": [
    {
     "name": "stdout",
     "output_type": "stream",
     "text": [
      "Highest extractable cos harmonic = 1.409 +- 0.492\n",
      "Highest extractable sin harmonic = 0.955 +- 0.928\n",
      "\n"
     ]
    }
   ],
   "source": [
    "nc, ns = g.data.FTanalyse(binS)"
   ]
  },
  {
   "cell_type": "markdown",
   "id": "e96cf552-fc7e-4fe3-8167-8e57d589a367",
   "metadata": {},
   "source": [
    "So zeroth and first cosine harmonics are clean. One could argue for second in some bins or first sine? Still we go with simplest model: just zeroth and first cosine:"
   ]
  },
  {
   "cell_type": "code",
   "execution_count": 35,
   "id": "91649b9d-78c9-4c29-9450-e44107764c12",
   "metadata": {},
   "outputs": [],
   "source": [
    "nc = 1; ns = 0;"
   ]
  },
  {
   "cell_type": "markdown",
   "id": "7698b2e6-ab32-47a7-b197-6a7e6c9474b9",
   "metadata": {},
   "source": [
    "## Simple treatment"
   ]
  },
  {
   "cell_type": "code",
   "execution_count": 36,
   "id": "a6e97f19-8fe5-4e90-a6d3-5bf09bba6bbf",
   "metadata": {
    "hidden": true,
    "level": 7
   },
   "outputs": [],
   "source": [
    "for k in Sbins.index:\n",
    "    bn = binS[k]\n",
    "    dfFT = g.data.FTFMC(bn, nsamples = 3000, cosmax=nc, sinmax=ns)\n",
    "    for typ in ('val', 'err'):\n",
    "        bn.insert(len(bn.columns), 'FT'+typ, pd.Series(dfFT[typ].values, index=bn.index))"
   ]
  },
  {
   "cell_type": "code",
   "execution_count": 37,
   "id": "9a7102a7-057c-492d-a830-7519712ee206",
   "metadata": {
    "hidden": true,
    "level": 7
   },
   "outputs": [],
   "source": [
    "def c0(bin):\n",
    "    \"\"\"Zeroth cosine harmonic of bin with total stat error.\"\"\" \n",
    "    return bin[['E', 'Q2', 'xB', 'tm', 'FTval', 'FTerr']].iloc[0] \n",
    "def c1(bin):\n",
    "    return bin[['E', 'Q2', 'xB', 'tm', 'FTval', 'FTerr']].iloc[1]"
   ]
  },
  {
   "cell_type": "code",
   "execution_count": 38,
   "id": "d2644412-d0e9-4f49-80d2-78b31f01b3c9",
   "metadata": {
    "hidden": true
   },
   "outputs": [],
   "source": [
    "FTc0 = pd.DataFrame([c0(binS[k]) for k in Sbins.index]).reset_index(drop=True)\n",
    "FTc0['FTn'] = 0\n",
    "FTc1 = pd.DataFrame([c1(binS[k]) for k in Sbins.index]).reset_index(drop=True)\n",
    "FTc1['FTn'] = 1"
   ]
  },
  {
   "cell_type": "code",
   "execution_count": 39,
   "id": "dd192bb9-d837-42bb-9f96-a5ab7d9c3564",
   "metadata": {
    "hidden": true,
    "level": 7
   },
   "outputs": [
    {
     "name": "stdout",
     "output_type": "stream",
     "text": [
      "    E   Q2    xB    tm  FTn     FTval    FTerr\n",
      "5.550 1.51 0.359 0.180    1  0.026576 0.002191\n",
      "5.550 1.51 0.359 0.237    1  0.042592 0.002849\n",
      "5.550 1.52 0.361 0.298    1  0.050190 0.004200\n",
      "3.355 1.49 0.357 0.177    1  0.014822 0.005342\n",
      "3.355 1.50 0.359 0.236    1  0.039577 0.005607\n",
      "3.355 1.50 0.360 0.296    1  0.042872 0.010346\n",
      "5.550 1.74 0.359 0.183    1  0.009694 0.000775\n",
      "5.550 1.74 0.359 0.242    1  0.020988 0.000928\n",
      "5.550 1.74 0.359 0.302    1  0.029884 0.001118\n",
      "5.550 1.75 0.361 0.363    1  0.036283 0.001405\n",
      "4.455 1.74 0.357 0.181    1  0.006169 0.001504\n",
      "4.455 1.74 0.357 0.240    1  0.015017 0.001571\n",
      "4.455 1.74 0.358 0.301    1  0.024125 0.001767\n",
      "4.455 1.76 0.361 0.363    1  0.028225 0.001869\n",
      "5.550 1.98 0.357 0.182    1  0.001579 0.001016\n",
      "5.550 1.98 0.356 0.242    1  0.011594 0.001079\n",
      "5.550 1.98 0.356 0.302    1  0.012876 0.001191\n",
      "5.550 1.99 0.358 0.363    1  0.013565 0.001253\n",
      "4.455 1.98 0.356 0.182    1 -0.000087 0.001899\n",
      "4.455 1.99 0.357 0.242    1  0.006223 0.001890\n",
      "4.455 2.00 0.360 0.304    1  0.014688 0.002021\n",
      "4.455 2.00 0.360 0.364    1  0.015108 0.002290\n"
     ]
    }
   ],
   "source": [
    "#print(FTc0[['E', 'Q2', 'xB', 'tm', 'FTn', 'FTval', 'FTerr']].to_string(index=False))\n",
    "print(FTc1[['E', 'Q2', 'xB', 'tm', 'FTn', 'FTval', 'FTerr']].to_string(index=False))"
   ]
  },
  {
   "cell_type": "markdown",
   "id": "f707d9de-aa1c-4e7b-94b8-a3c75397f174",
   "metadata": {},
   "source": [
    "Result of similar analysis can be found in Gepard's datafile ID=137:"
   ]
  },
  {
   "cell_type": "code",
   "execution_count": 40,
   "id": "5eec7add-d920-4eac-be2a-3138b225b8c7",
   "metadata": {
    "hidden": true
   },
   "outputs": [
    {
     "name": "stdout",
     "output_type": "stream",
     "text": [
      "  5.55   1.51  0.359   0.18    0.02646  0.00220 \n",
      "  5.55   1.51  0.359  0.237    0.04249  0.00282 \n",
      "  5.55   1.52  0.361  0.298    0.05023  0.00422 \n",
      "  3.35   1.49  0.357  0.177    0.01479  0.00531 \n",
      "  3.35    1.5  0.359  0.236    0.03948  0.00544 \n",
      "  3.35    1.5   0.36  0.296    0.04285  0.01039 \n",
      "  5.55   1.74  0.359  0.183    0.00970  0.00080 \n",
      "  5.55   1.74  0.359  0.242    0.02102  0.00093 \n",
      "  5.55   1.74  0.359  0.302    0.02988  0.00113 \n",
      "  5.55   1.75  0.361  0.363    0.03621  0.00140 \n",
      "  4.46   1.74  0.357  0.181    0.00624  0.00150 \n",
      "  4.46   1.74  0.357   0.24    0.01509  0.00159 \n",
      "  4.46   1.74  0.358  0.301    0.02418  0.00171 \n",
      "  4.46   1.76  0.361  0.363    0.02827  0.00190 \n",
      "  5.55   1.98  0.357  0.182    0.00155  0.00103 \n",
      "  5.55   1.98  0.356  0.242    0.01151  0.00110 \n",
      "  5.55   1.98  0.356  0.302    0.01289  0.00120 \n",
      "  5.55   1.99  0.358  0.363    0.01355  0.00127 \n",
      "  4.46   1.98  0.356  0.182   -0.00019  0.00201 \n",
      "  4.46   1.99  0.357  0.242    0.00622  0.00188 \n",
      "  4.46    2.0   0.36  0.304    0.01475  0.00207 \n",
      "  4.46    2.0   0.36  0.364    0.01515  0.00237 \n"
     ]
    }
   ],
   "source": [
    "for pt in g.dset[137]:\n",
    "    if pt.FTn == 1:\n",
    "        print(\"{:6.3} {:6.3} {:6.3} {:6.3}   {:8.5f} {:8.5f} \".format(pt.in1energy, pt.Q2, pt.xB, pt.tm, pt.val, pt.errstat))"
   ]
  },
  {
   "cell_type": "markdown",
   "id": "7c905f27-5360-44de-8a8a-d89107e21138",
   "metadata": {},
   "source": [
    "## Treatment with cos-phi uncertainty enhancement"
   ]
  },
  {
   "cell_type": "markdown",
   "id": "e5d1581b-1ac9-4411-832f-153d89f773b7",
   "metadata": {
    "hidden": true,
    "level": 7
   },
   "source": [
    "Using now the $c_0/c_1$ correction for $\\phi$-modulated correlated systematic errors in a worst case scenario. See e.g. 1602.02763 Sect 3.1."
   ]
  },
  {
   "cell_type": "markdown",
   "id": "ceb05cd4-dc11-4ac0-9196-edd117c0f58b",
   "metadata": {
    "hidden": true
   },
   "source": [
    "Hall A: _\"... the systematic\n",
    "uncertainty associated to the exclusivity cut estimated\n",
    "to be **2%**. [...] A **2%**-systematic uncertainty has been attributed to the radiative\n",
    "corrections and a **1%**-uncertainty to the HRS\n",
    "acceptance model [24]. The simulation is used to account\n",
    "for bin migration effects due to detector resolution\n",
    "and Bremsstrahlung radiation, with **1%** systematic uncertainty.\n",
    "An additional bin in t is used to correct for\n",
    "bin migration in and out of the largest abs(t)-bin. We also\n",
    "include **2%** uncertainty for the integrated luminosity and\n",
    "data acquisition dead-time correction and **0.5%** for trigger\n",
    "efficiency, which yields a total systematic uncertainty\n",
    "of 3.7% for the unpolarized cross sections\"_"
   ]
  },
  {
   "cell_type": "code",
   "execution_count": 41,
   "id": "483982ab-7e1c-497f-a865-e4780ec6362e",
   "metadata": {
    "hidden": true
   },
   "outputs": [
    {
     "data": {
      "text/plain": [
       "np.float64(3.774917217635375)"
      ]
     },
     "execution_count": 41,
     "metadata": {},
     "output_type": "execute_result"
    }
   ],
   "source": [
    "np.sqrt(np.sum([err**2 for err in [2, 2, 1, 1, 2, 0.5]]))"
   ]
  },
  {
   "cell_type": "markdown",
   "id": "8e33117b-3177-44a5-a96c-baa6a424e6f7",
   "metadata": {
    "hidden": true
   },
   "source": [
    "We will assume that exclusivity cut and radiative corrections can be sources of $\\phi$-modulated syst error, susceptible to c0/c1 enhancement:"
   ]
  },
  {
   "cell_type": "code",
   "execution_count": 42,
   "id": "dfb58e5f-4bb6-478f-b98b-1f6d2309b4fa",
   "metadata": {
    "hidden": true,
    "level": 7
   },
   "outputs": [],
   "source": [
    "def c0(bin):\n",
    "    \"\"\"Zeroth cosine harmonic of bin with total error.\"\"\"\n",
    "    # correlated syst error in %\n",
    "    corrD = np.sqrt(np.sum([err**2 for err in [2, 2, 1, \n",
    "                                                1, 2, 0.5]]))\n",
    "    # correlated syts error\n",
    "    syst = abs(bin['FTval'].iloc[0] * corrD * 0.01)\n",
    "    aux = bin[['E', 'Q2', 'xB', 'tm', 'FTval', 'FTerr']].iloc[0]   \n",
    "    return pd.concat([aux, pd.Series([syst], index=['syst'])])\n",
    "def c1(bin, enh=1.):\n",
    "    \"\"\"First cosine harmonic of bin with total error.\n",
    "    \n",
    "    enh - enhancement of phi-modulated sources of syst err\n",
    "    \"\"\"\n",
    "    corrD = np.sqrt(np.sum([err**2 for err in [enh*2, enh*2, 1, \n",
    "                                               1, 2, 0.5]]))\n",
    "    # correlated syts error\n",
    "    syst = abs(bin['FTval'].iloc[1] * corrD * 0.01)\n",
    "    aux = bin[['E', 'Q2', 'xB', 'tm', 'FTval', 'FTerr']].iloc[1]   \n",
    "    return pd.concat([aux, pd.Series([syst], index=['syst'])])"
   ]
  },
  {
   "cell_type": "markdown",
   "id": "8a35febd-e527-44c0-aa52-50fdc8a14a29",
   "metadata": {
    "hidden": true,
    "level": 7
   },
   "source": [
    "First get just mean values for calculation of enhancement ratios"
   ]
  },
  {
   "cell_type": "code",
   "execution_count": 43,
   "id": "2d65b9f9-ede1-4e7c-98c0-92becf96d92e",
   "metadata": {
    "hidden": true,
    "level": 7
   },
   "outputs": [],
   "source": [
    "FTc0 = pd.DataFrame([c0(binS[k]) for k in Sbins.index]).reset_index(drop=True)\n",
    "FTc0['FTn'] = 0\n",
    "FTc1 = pd.DataFrame([c1(binS[k], enh=1.) for k in Sbins.index]).reset_index(drop=True)"
   ]
  },
  {
   "cell_type": "code",
   "execution_count": 44,
   "id": "a2d1b1a3-516d-47b4-b03a-6ffd6fede7d3",
   "metadata": {
    "hidden": true,
    "level": 7
   },
   "outputs": [
    {
     "data": {
      "text/plain": [
       "array([ 3.36640528e+00,  1.87999507e+00,  1.33986614e+00,  1.52479929e+01,\n",
       "        4.24211958e+00,  2.96859981e+00,  6.63760189e+00,  2.62139170e+00,\n",
       "        1.65305933e+00,  1.24433972e+00,  1.71553736e+01,  5.38152845e+00,\n",
       "        2.62753607e+00,  1.80354417e+00,  3.84551639e+01,  4.12921340e+00,\n",
       "        2.87720993e+00,  2.23398184e+00, -1.25524232e+03,  1.29776865e+01,\n",
       "        4.14703171e+00,  2.91979042e+00])"
      ]
     },
     "execution_count": 44,
     "metadata": {},
     "output_type": "execute_result"
    }
   ],
   "source": [
    "# enhancement ratios by bins\n",
    "c0overc1 = FTc0['FTval'].values / FTc1['FTval'].values; c0overc1"
   ]
  },
  {
   "cell_type": "markdown",
   "id": "676b6313-bf08-4f7d-85d5-7c3e4b572ad2",
   "metadata": {
    "hidden": true,
    "level": 7
   },
   "source": [
    "And now corrected $c_1$ including enhancement ratios"
   ]
  },
  {
   "cell_type": "code",
   "execution_count": 45,
   "id": "de131d2d-22bc-424b-830d-fbccc450d1d7",
   "metadata": {
    "hidden": true,
    "level": 7
   },
   "outputs": [],
   "source": [
    "FTc1 = pd.DataFrame([c1(binS[k], enh=c0overc1[k]) for k in Sbins.index]).reset_index(drop=True)\n",
    "FTc1['FTn'] = 1"
   ]
  },
  {
   "cell_type": "code",
   "execution_count": 46,
   "id": "c831b4bc-8417-4bef-a071-7d3fa89be176",
   "metadata": {
    "hidden": true,
    "level": 7
   },
   "outputs": [
    {
     "name": "stdout",
     "output_type": "stream",
     "text": [
      "        E    Q2     xB     tm     FTval     FTerr      syst  FTn\n",
      "0   5.550  1.51  0.359  0.180  0.026576  0.002191  0.002616    1\n",
      "1   5.550  1.51  0.359  0.237  0.042592  0.002849  0.002503    1\n",
      "2   5.550  1.52  0.361  0.298  0.050190  0.004200  0.002279    1\n",
      "3   3.355  1.49  0.357  0.177  0.014822  0.005342  0.006403    1\n",
      "4   3.355  1.50  0.359  0.236  0.039577  0.005607  0.004851    1\n",
      "5   3.355  1.50  0.360  0.296  0.042872  0.010346  0.003756    1\n",
      "6   5.550  1.74  0.359  0.183  0.009694  0.000775  0.001836    1\n",
      "7   5.550  1.74  0.359  0.242  0.020988  0.000928  0.001642    1\n",
      "8   5.550  1.74  0.359  0.302  0.029884  0.001118  0.001584    1\n",
      "9   5.550  1.75  0.361  0.363  0.036283  0.001405  0.001566    1\n",
      "10  4.455  1.74  0.357  0.181  0.006169  0.001504  0.002997    1\n",
      "11  4.455  1.74  0.357  0.240  0.015017  0.001571  0.002316    1\n",
      "12  4.455  1.74  0.358  0.301  0.024125  0.001767  0.001892    1\n",
      "13  4.455  1.76  0.361  0.363  0.028225  0.001869  0.001603    1\n",
      "14  5.550  1.98  0.357  0.182  0.001579  0.001016  0.001718    1\n",
      "15  5.550  1.98  0.356  0.242  0.011594  0.001079  0.001385    1\n",
      "16  5.550  1.98  0.356  0.302  0.012876  0.001191  0.001096    1\n",
      "17  5.550  1.99  0.358  0.363  0.013565  0.001253  0.000922    1\n",
      "18  4.455  1.98  0.356  0.182 -0.000087  0.001899  0.003105    1\n",
      "19  4.455  1.99  0.357  0.242  0.006223  0.001890  0.002290    1\n",
      "20  4.455  2.00  0.360  0.304  0.014688  0.002021  0.001762    1\n",
      "21  4.455  2.00  0.360  0.364  0.015108  0.002290  0.001304    1\n"
     ]
    }
   ],
   "source": [
    "print(FTc1)"
   ]
  },
  {
   "cell_type": "markdown",
   "id": "9b8fda99-5393-43fc-bd71-499630ee38ec",
   "metadata": {},
   "source": [
    "Result of similar analysis can be found in Gepard's datafile ID=136:"
   ]
  },
  {
   "cell_type": "code",
   "execution_count": 47,
   "id": "bdd169a3-35e1-4c14-b3a5-ad8d7f7dbf70",
   "metadata": {
    "hidden": true
   },
   "outputs": [
    {
     "name": "stdout",
     "output_type": "stream",
     "text": [
      "  5.55   1.51  0.359   0.18    0.02655  0.00213  0.00262\n",
      "  5.55   1.51  0.359  0.237    0.04248  0.00283  0.00250\n",
      "  5.55   1.52  0.361  0.298    0.05030  0.00414  0.00228\n",
      "  3.35   1.49  0.357  0.177    0.01497  0.00539  0.00641\n",
      "  3.35    1.5  0.359  0.236    0.03961  0.00556  0.00485\n",
      "  3.35    1.5   0.36  0.296    0.04240  0.01026  0.00376\n",
      "  5.55   1.74  0.359  0.183    0.00970  0.00079  0.00184\n",
      "  5.55   1.74  0.359  0.242    0.02105  0.00095  0.00164\n",
      "  5.55   1.74  0.359  0.302    0.02990  0.00112  0.00159\n",
      "  5.55   1.75  0.361  0.363    0.03626  0.00141  0.00157\n",
      "  4.46   1.74  0.357  0.181    0.00611  0.00151  0.00300\n",
      "  4.46   1.74  0.357   0.24    0.01505  0.00156  0.00232\n",
      "  4.46   1.74  0.358  0.301    0.02417  0.00171  0.00189\n",
      "  4.46   1.76  0.361  0.363    0.02824  0.00191  0.00160\n",
      "  5.55   1.98  0.357  0.182    0.00159  0.00102  0.00172\n",
      "  5.55   1.98  0.356  0.242    0.01158  0.00110  0.00138\n",
      "  5.55   1.98  0.356  0.302    0.01282  0.00119  0.00110\n",
      "  5.55   1.99  0.358  0.363    0.01356  0.00127  0.00092\n",
      "  4.46   1.98  0.356  0.182   -0.00015  0.00197  0.00311\n",
      "  4.46   1.99  0.357  0.242    0.00619  0.00186  0.00229\n",
      "  4.46    2.0   0.36  0.304    0.01470  0.00214  0.00176\n",
      "  4.46    2.0   0.36  0.364    0.01512  0.00228  0.00130\n"
     ]
    }
   ],
   "source": [
    "for pt in g.dset[136]:\n",
    "    if pt.FTn == 1:\n",
    "        print(\"{:6.3} {:6.3} {:6.3} {:6.3}   {:8.5f} {:8.5f} {:8.5f}\".format(pt.in1energy, pt.Q2, pt.xB, pt.tm, pt.val, pt.errstat, pt.errsyst))"
   ]
  }
 ],
 "metadata": {
  "kernelspec": {
   "display_name": "gepard-env-NNP",
   "language": "python",
   "name": "python3"
  },
  "language_info": {
   "codemirror_mode": {
    "name": "ipython",
    "version": 3
   },
   "file_extension": ".py",
   "mimetype": "text/x-python",
   "name": "python",
   "nbconvert_exporter": "python",
   "pygments_lexer": "ipython3",
   "version": "3.11.9"
  }
 },
 "nbformat": 4,
 "nbformat_minor": 5
}

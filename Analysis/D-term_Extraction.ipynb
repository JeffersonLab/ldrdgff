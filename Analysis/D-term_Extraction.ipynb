{
 "cells": [
  {
   "cell_type": "code",
   "execution_count": 1,
   "id": "93597232",
   "metadata": {},
   "outputs": [],
   "source": [
    "%matplotlib inline\n",
    "%load_ext autoreload\n",
    "%autoreload 2"
   ]
  },
  {
   "cell_type": "code",
   "execution_count": 2,
   "id": "66faa9ef",
   "metadata": {},
   "outputs": [
    {
     "name": "stdout",
     "output_type": "stream",
     "text": [
      "Gepard version = 0.9.11b0\n"
     ]
    }
   ],
   "source": [
    "import os\n",
    "import sys\n",
    "import gepard as g # NeuralModel with Dispersion relation added \n",
    "from gepard import model, fitter, data, plots\n",
    "import gepard.plots as gplot\n",
    "from gepard.fits import GLO15new, AUTIpts, ALUIpts, ACpts, AULpts, ALLpts \n",
    "print('Gepard version = {}'.format(g.__version__))"
   ]
  },
  {
   "cell_type": "code",
   "execution_count": 3,
   "id": "b55976a0",
   "metadata": {},
   "outputs": [],
   "source": [
    "import gmaster as gm\n",
    "from gmaster.fits import th_KM15, th_KM10b # need KM15 for simulated data\n",
    "th15 = th_KM15\n",
    "from gmaster.constants import Mp2, toTeX"
   ]
  },
  {
   "cell_type": "code",
   "execution_count": 4,
   "id": "b9080329",
   "metadata": {},
   "outputs": [],
   "source": [
    "import torch\n",
    "import torch.nn as nn\n",
    "import numpy as np \n",
    "#np.set_printoptions(legacy='1.25')\n",
    "import matplotlib\n",
    "import matplotlib.pyplot as plt\n",
    "import shelve, logging, copy\n",
    "logging.basicConfig(level=logging.ERROR) \n",
    "import pandas as pd \n",
    "from scipy.integrate import quad\n",
    "from scipy.interpolate import InterpolatedUnivariateSpline\n",
    "from scipy.stats import norm\n",
    "from pathlib import Path"
   ]
  },
  {
   "cell_type": "code",
   "execution_count": 5,
   "id": "695f678b",
   "metadata": {},
   "outputs": [],
   "source": [
    "sys.path.append('/Users/higuera-admin/Documents/Programs/ldrdgff/gepard/src/gepard/')\n",
    "\n",
    "import mydatafiles\n",
    "from mydatafiles import ep2epgamma\n",
    "\n",
    "mydset = g.data.loaddata(mydatafiles)\n",
    "mydset.update(g.data.loaddata(ep2epgamma))"
   ]
  },
  {
   "cell_type": "code",
   "execution_count": 6,
   "id": "ecdcc08b",
   "metadata": {},
   "outputs": [],
   "source": [
    "# To have nice LaTeX fonts on plots\n",
    "plt.rc('text', usetex=True)\n",
    "params = {'text.latex.preamble' : '\\n'.join([r'\\usepackage{amssymb}', r'\\usepackage{amsmath}'])}\n",
    "plt.rcParams.update(params)"
   ]
  },
  {
   "cell_type": "code",
   "execution_count": 8,
   "id": "4692fd65",
   "metadata": {},
   "outputs": [],
   "source": [
    "# Define file paths\n",
    "RESULTS_DIR = '/Users/higuera-admin/Documents/Programs/ldrdgff/Analysis/tests/Results/DR4CFF_CLAS+HERMES+HALLA'\n",
    "FITS_DIR = '/Users/higuera-admin/Documents/Programs/ldrdgff/Analysis/tests/fits_models/DR4CFF_CLAS+HERMES+HALLA'"
   ]
  },
  {
   "cell_type": "code",
   "execution_count": 9,
   "id": "f92fd26f",
   "metadata": {},
   "outputs": [
    {
     "name": "stdout",
     "output_type": "stream",
     "text": [
      "npt x obs     collab  FTn    id  ref.        \n",
      "----------------------------------------------\n",
      " 6 x AC      HERMES  0.0    67  arXiv:1203.6287 [hep-ex]\n",
      " 6 x AC      HERMES  1.0    67  arXiv:1203.6287 [hep-ex]\n",
      " 8 x ALU     CLAS    -1     182 arxiv.org/pdf/2211.11274\n",
      " 8 x ALU     CLAS    -1     192 arxiv:2211.11274\n",
      "10 x ALU     CLAS    -1     94  arXiv:1501.07052\n",
      "12 x ALU     CLAS    -1.0   8   arXiv:0711.4805\n",
      " 6 x ALU     CLAS    -1.0   81  arXiv:0812.2950\n",
      " 6 x ALU     CLAS    -2.0   81  arXiv:0812.2950\n",
      "10 x BTSA    CLAS    0.0    96  arXiv:1501.07052\n",
      "10 x BTSA    CLAS    1.0    96  arXiv:1501.07052\n",
      " 4 x BTSA    HERMES  0.0    53  arXiv:1004.0177v1\n",
      " 3 x TSA     CLAS    -1     54  arXiv:hep-ex/0605012\n",
      "10 x TSA     CLAS    -1     95  arXiv:1501.07052\n",
      " 4 x TSA     HERMES  -1.0   52  arXiv:1004.0177v1\n",
      "48 x XLUw    CLAS    -1     101 arXiv:1504.02009\n",
      "15 x XLUw    HALLA   -1     117 arXiv:1504.05453\n",
      "18 x XLUw    HALLA   -1     135 arXiv:1703.09442\n",
      "48 x XUUw    CLAS    0.0    102 arXiv:1504.02009\n",
      "48 x XUUw    CLAS    1.0    102 arXiv:1504.02009\n",
      "22 x XUUw    HALLA   0.0    136 arXiv:1703.09442\n",
      "22 x XUUw    HALLA   1.0    136 arXiv:1703.09442\n",
      "----------------------------------------------\n",
      "TOTAL = 324\n"
     ]
    }
   ],
   "source": [
    "fitpoints = (\n",
    "    g.dset.get(101, []) + g.dset.get(102, []) + g.dset.get(8, []) + \n",
    "    g.dset.get(81, []) + g.dset.get(94, []) + g.dset.get(95, []) + g.dset.get(96, [])\n",
    "    + mydset.get(182, []) + mydset.get(192, []) \n",
    "    + ACpts + AULpts + ALLpts \n",
    "    + g.dset.get(117, []) + g.dset.get(135, []) + g.dset.get(136, []) #HallA\n",
    "    #+ mydset.get(251, []) # CLAS_TSApre\n",
    ")   \n",
    "g.describe_data(fitpoints)"
   ]
  },
  {
   "cell_type": "code",
   "execution_count": 10,
   "id": "d80c73a1",
   "metadata": {},
   "outputs": [],
   "source": [
    "# For easier manipulations we transform some datasets to pandas frames\n",
    "data = mydset[182]\n",
    "BSA = data.df()   # ALU by CLAS 2022\n",
    "data = g.dset[102]\n",
    "BSS = data.df()  # CLAS 2015\n",
    "data = g.dset[101]\n",
    "BSD = data.df()  # CLAS 2015"
   ]
  },
  {
   "cell_type": "code",
   "execution_count": 11,
   "id": "2eced62b",
   "metadata": {},
   "outputs": [],
   "source": [
    "# Bins can be defined as ranges within the following limiting values:\n",
    "tmlims = [0, 0.13, 0.18, 0.22, 0.3, 0.4, 0.5, 0.6, 0.7]\n",
    "xilims = [0, 0.11, 0.13, 0.15, 0.17, 0.19, 0.21, 0.23, 0.26]"
   ]
  },
  {
   "cell_type": "code",
   "execution_count": 12,
   "id": "8ec04e33",
   "metadata": {},
   "outputs": [
    {
     "data": {
      "text/plain": [
       "Text(0, 0.5, '$-t\\\\quad[{\\\\rm GeV}^2]$')"
      ]
     },
     "execution_count": 12,
     "metadata": {},
     "output_type": "execute_result"
    },
    {
     "data": {
      "image/png": "[encoded data removed]",
      "text/plain": [
       "<Figure size 700x600 with 1 Axes>"
      ]
     },
     "metadata": {},
     "output_type": "display_data"
    }
   ],
   "source": [
    "fig, ax = plt.subplots(figsize=[7,6])\n",
    "ax.scatter(BSA.xi, BSA.tm, s=10)\n",
    "for tm in tmlims:\n",
    "    ax.axhline(tm, color='g', linewidth=1, alpha=0.4)\n",
    "for xi in xilims:\n",
    "    ax.axvline(xi, color='g', linewidth=1, alpha=0.4)\n",
    "ax.set_xlabel(r'$\\xi$', fontsize=14)\n",
    "ax.set_ylabel(r'$-t\\quad[{\\rm GeV}^2]$', fontsize=14)"
   ]
  },
  {
   "cell_type": "code",
   "execution_count": 13,
   "id": "46b95bc2",
   "metadata": {},
   "outputs": [],
   "source": [
    "################# Customization for 4-CFF DR model ###################\n",
    "class CustomNetwork(nn.Module):\n",
    "    def __init__(self):\n",
    "        super(CustomNetwork, self).__init__()\n",
    "\n",
    "        # Define the layers for the network\n",
    "        self.n1 = nn.Linear(2, 20)\n",
    "        self.n2 = nn.Linear(20, 25)\n",
    "        self.n3 = nn.Linear(25, 2)\n",
    "\n",
    "        self.n1p = nn.Linear(1, 7)\n",
    "        self.n2p = nn.Linear(7, 5)\n",
    "        self.n3p = nn.Linear(5, 1)\n",
    "\n",
    "    def forward(self, x):\n",
    "\n",
    "        x0 = x\n",
    "\n",
    "        # Build Im network\n",
    "        x = torch.relu(self.n1(x0))\n",
    "        x = torch.relu(self.n2(x))\n",
    "        output1 = self.n3(x)\n",
    "\n",
    "        # Build D network\n",
    "        # build the input tensor\n",
    "        x0_1 = torch.cat((x0[:,1].unsqueeze(1),), dim=0)\n",
    "\n",
    "        x2 = torch.relu(self.n1p(x0_1))\n",
    "        x2 = torch.relu(self.n2p(x2))\n",
    "        output2 = self.n3p(x2)\n",
    "\n",
    "        #concatenate outputs\n",
    "        output = torch.cat((output1, output2), dim=1)\n",
    "        return output"
   ]
  },
  {
   "cell_type": "code",
   "execution_count": 14,
   "id": "e096d8a9",
   "metadata": {},
   "outputs": [],
   "source": [
    "# Define the 4-CFF DR model\n",
    "class NNTest_DR(g.model.NeuralModel_DR, g.eff.DipoleEFF, g.dvcs.BM10, g.cff.DispersionCFF):\n",
    "    def build_net(self):\n",
    "        \"\"\"Overriding the default architecture and optimizer\"\"\"\n",
    "        nn_model = CustomNetwork()\n",
    "        optimizer = torch.optim.Rprop(nn_model.parameters(), lr=0.05)\n",
    "        return nn_model, optimizer\n",
    "\n",
    "    def subtraction(self, pt): #This should use the NN, the real part will be calculated by the CFF_Dispersion methods\n",
    "        \"\"\"Subtraction constant.\"\"\"\n",
    "        #print(\"I am here in D\")\n",
    "        #refer to the location of D in output layer (defined in the next cell)\n",
    "        return self.cffs(2, pt, xi)\n",
    "\n",
    "    def ImH(self, pt, xi=0) -> float:\n",
    "        \"\"\"Return Im(CFF H) for kinematic point.\"\"\"\n",
    "        #refer to the location of Im H in output layer (defined in the next cell)\n",
    "        return self.cffs(0, pt, xi)\n",
    "\n",
    "    def ImE(self, pt, xi=0):\n",
    "        \"\"\"Return Im(CFF E) for kinematic point.\"\"\"\n",
    "        return self.cffs(1, pt, xi)\n",
    "\n",
    "    def ImHt(self, pt, xi=0):\n",
    "        \"\"\"Return Im(CFF Ht) for kinematic point.\"\"\"\n",
    "        return self.zero(pt)\n",
    "\n",
    "    def ImEt(self, pt, xi=0):\n",
    "        \"\"\"Return Im(CFF Et) for kinematic point.\"\"\"\n",
    "        return self.zero(pt)\n"
   ]
  },
  {
   "cell_type": "markdown",
   "id": "fe08b349",
   "metadata": {},
   "source": [
    "## Loading model ensembles from a single analysis"
   ]
  },
  {
   "cell_type": "code",
   "execution_count": 15,
   "id": "7b145269",
   "metadata": {},
   "outputs": [],
   "source": [
    "def load_model_ensemble(path, model_class, name=\"Loaded Model\"):\n",
    "    \"\"\"\n",
    "    Load a saved ensemble model from a .pt file and restore the `th_model` instance.\n",
    "\n",
    "    Parameters\n",
    "    ----------\n",
    "    path : str\n",
    "        Path to the saved .pt file.\n",
    "    model_class : class\n",
    "        The class used to define the model (e.g., `NNTest_DR`).\n",
    "    name : str\n",
    "        A display name for the model, used for plots or printing.\n",
    "\n",
    "    Returns\n",
    "    -------\n",
    "    th_model : instance of model_class\n",
    "        Restored model with `.nets` loaded and ready to use.\n",
    "    metadata : dict\n",
    "        Dictionary with optional metadata (history, test_history, etc.).\n",
    "\n",
    "    Raises\n",
    "    ------\n",
    "    FileNotFoundError\n",
    "        If the .pt file is not found.\n",
    "    KeyError\n",
    "        If essential keys are missing in the saved file.\n",
    "    \"\"\"\n",
    "\n",
    "    if not os.path.exists(path):\n",
    "        raise FileNotFoundError(f\"File not found: {path}\")\n",
    "\n",
    "    print(f\"📂 Loading model from: {path}\")\n",
    "    data = torch.load(path, map_location='cpu')\n",
    "\n",
    "    # Check required fields\n",
    "    if 'nets' not in data:\n",
    "        raise KeyError(\"Missing key 'nets' in the saved file.\")\n",
    "    \n",
    "    output_layer = data.get('output_layer', [])\n",
    "    if not isinstance(output_layer, list):\n",
    "        print(\"Warning: 'output_layer' is not a list. Proceeding anyway.\")\n",
    "\n",
    "    th_model = model_class(output_layer=output_layer)\n",
    "    th_model.name = name\n",
    "    th_model.nets = data['nets']\n",
    "\n",
    "    # Optional metadata\n",
    "    metadata = {\n",
    "        'history': data.get('history'),\n",
    "        'test_history': data.get('test_history'),\n",
    "        'output_layer': output_layer,\n",
    "        'name': data.get('name', name)\n",
    "    }\n",
    "\n",
    "    print(f\"Model '{th_model.name}' successfully loaded with {len(th_model.nets)} nets.\")\n",
    "    return th_model, metadata\n",
    "\n"
   ]
  },
  {
   "cell_type": "code",
   "execution_count": 16,
   "id": "d37d6381",
   "metadata": {},
   "outputs": [
    {
     "name": "stdout",
     "output_type": "stream",
     "text": [
      "📂 Loading model from: /Users/higuera-admin/Documents/Programs/ldrdgff/Analysis/tests/fits_models/DR4CFF_CLAS+HERMES+HALLA/nets_4CFFDR_3.pt\n",
      "Model 'Fit DR' successfully loaded with 10 nets.\n"
     ]
    },
    {
     "data": {
      "image/png": "[encoded data removed]",
      "text/plain": [
       "<Figure size 640x480 with 1 Axes>"
      ]
     },
     "metadata": {},
     "output_type": "display_data"
    }
   ],
   "source": [
    "# Ensure CustomNetwork is defined BEFORE this\n",
    "sys.modules['__main__'].CustomNetwork_4 = CustomNetwork\n",
    "\n",
    "# For a single saved DR model\n",
    "path = os.path.join(FITS_DIR, 'nets_4CFFDR_3.pt')\n",
    "th, meta = load_model_ensemble(path, NNTest_DR, name=\"Fit DR\")\n",
    "\n",
    "# Access training history\n",
    "if meta['history']:\n",
    "    plt.plot(meta['history'], label=\"Training\")\n",
    "    plt.plot(meta['test_history'], label=\"Test\")\n",
    "    plt.legend()\n",
    "    plt.title(\"Training Loss History\")\n",
    "    plt.grid()\n",
    "    plt.show()"
   ]
  },
  {
   "cell_type": "code",
   "execution_count": 18,
   "id": "e0f2697d",
   "metadata": {},
   "outputs": [
    {
     "data": {
      "image/png": "[encoded data removed]",
      "text/plain": [
       "<Figure size 640x480 with 1 Axes>"
      ]
     },
     "metadata": {},
     "output_type": "display_data"
    }
   ],
   "source": [
    "fig = gplot.jbod(points=fitpoints, lines=[th], bands=[th])"
   ]
  },
  {
   "cell_type": "markdown",
   "id": "dcfa617a",
   "metadata": {},
   "source": [
    "## D-term from a single model"
   ]
  },
  {
   "cell_type": "code",
   "execution_count": null,
   "id": "7b3511b1",
   "metadata": {},
   "outputs": [],
   "source": [
    "ptts = []\n",
    "tm_list = np.linspace(0.1, 0.5, 10)\n",
    "\n",
    "for tm in tm_list:\n",
    "    ptb = g.dset[102][0].copy()\n",
    "    ptb.t = -tm\n",
    "    ptb.tm = tm\n",
    "    th15.prepare(ptb)\n",
    "    ptts.append(ptb)"
   ]
  },
  {
   "cell_type": "code",
   "execution_count": null,
   "id": "ffcf9201",
   "metadata": {},
   "outputs": [],
   "source": [
    "####### D-term estimate from DR fit with 2 and 4 CFFs ##########\n",
    "D = []\n",
    "std_values = []\n",
    "net_indices = []\n",
    "for th_model in [th]:\n",
    "    print(\"\\n---- [{} - {}] ----\".format(th_model.name, th_model.description))\n",
    "    A = []\n",
    "    for pt in ptts[::-1]:\n",
    "        Ds = []\n",
    "        for i, net in enumerate(th_model.nets):\n",
    "            th_model.nn_model, th_model.nn_mean, th_model.nn_std = net\n",
    "            Ds.append(float(th_model.m.subtraction(pt).detach().numpy() * 18. / 25.))\n",
    "            th_model.cffs_evaluated = False\n",
    "        net_indices.append(i)\n",
    "        Ds = np.array(Ds)\n",
    "        D_std = Ds.std()\n",
    "        std_values.append(D_std)\n",
    "        print(\"{:.3f}, {:.3f}: {:.3f} +- {:.3f}\".format(pt.xB, pt.t, Ds.mean(), Ds.std()))\n",
    "        A.append((pt.tm, Ds.mean(), Ds.std()))\n",
    "    th_model.m.parameters['nnet'] = 'ALL'\n",
    "    D.append(A)"
   ]
  },
  {
   "cell_type": "code",
   "execution_count": null,
   "id": "ce8808b8",
   "metadata": {},
   "outputs": [],
   "source": [
    "# Comparison with KM15 model\n",
    "# Comparison plot for D-terms from DR and DR_4 models\n",
    "NPTS = 20\n",
    "ts = np.linspace(0, 0.6, NPTS)\n",
    "KMS = np.array([-(18./25.)*2.768/(1.+tm/1.204**2)**2 for tm in ts])\n",
    "CDS = np.array(D[0])\n",
    "#CADS = np.array(D[1])\n",
    "\n",
    "fig, ax = plt.subplots(1, 1, figsize=[6, 6])\n",
    "ax.axhline(y=0, linewidth=0.5, color='k')\n",
    "ax.plot(ts, KMS, 'r-.', label='KM15 global fit')\n",
    "\n",
    "# Loop over loaded results to plot each D-term\n",
    "ax.errorbar(CDS[:, 0], CDS[:, 1], CDS[:, 2], linestyle='None', color='navy',\n",
    "            elinewidth=2, capsize=3, capthick=2, marker='o', label='Good Nets') #H and E with DR\n",
    "#ax.errorbar(CADS[:, 0] + 0.01, CADS[:, 1], CADS[:, 2], linestyle='None',\n",
    "#            elinewidth=2, capsize=3, capthick=2, marker='o', color='indianred', label='Best Models')\n",
    "\n",
    "ax.set_xlim(0.0, 0.6)\n",
    "ax.set_ylim(-4.5, 1)\n",
    "ax.legend(loc=4, handlelength=2.5,\n",
    "          prop=matplotlib.font_manager.FontProperties(size=\"large\")).set_frame_on(False)\n",
    "ax.set_xlabel(r'$-t \\quad [{\\rm GeV}^2]$', fontsize=16)\n",
    "ax.set_ylabel(r'$D^{Q}(t)$', fontsize=16)\n",
    "ax.tick_params(axis='both', which='major', labelsize=16)\n",
    "ax.tick_params(axis='both', which='minor', labelsize=16)\n",
    "ax.xaxis.set_major_locator(matplotlib.ticker.MultipleLocator(0.1))\n",
    "ax.xaxis.set_minor_locator(matplotlib.ticker.MultipleLocator(0.02))\n",
    "ax.yaxis.set_major_locator(matplotlib.ticker.MultipleLocator(1.0))\n",
    "ax.yaxis.set_minor_locator(matplotlib.ticker.MultipleLocator(0.2))"
   ]
  },
  {
   "cell_type": "markdown",
   "id": "1316ff8e",
   "metadata": {},
   "source": [
    "# D-term estimate from Ensemble Analysis"
   ]
  },
  {
   "cell_type": "code",
   "execution_count": 28,
   "id": "cf16fa38",
   "metadata": {},
   "outputs": [],
   "source": [
    "comparison_dir = Path(\"/Users/higuera-admin/Documents/Programs/ldrdgff/Analysis/tests/Results/Comparison_CFFs\")\n",
    "comparison_dir.mkdir(parents=True, exist_ok=True)"
   ]
  },
  {
   "cell_type": "code",
   "execution_count": null,
   "id": "3cc8033c",
   "metadata": {},
   "outputs": [
    {
     "name": "stdout",
     "output_type": "stream",
     "text": [
      "📂 Loading model from: /Users/higuera-admin/Documents/Programs/ldrdgff/Analysis/tests/fits_models/Test/th_combined_full.pt\n",
      "Model 'Full Ensemble (DR)' successfully loaded with 50 nets.\n",
      "📂 Loading model from: /Users/higuera-admin/Documents/Programs/ldrdgff/Analysis/tests/fits_models/Test/th_combined_bestmodels.pt\n",
      "Model 'Best Models (DR)' successfully loaded with 50 nets.\n",
      "📂 Loading model from: /Users/higuera-admin/Documents/Programs/ldrdgff/Analysis/tests/fits_models/Test/th_combined_goodnets.pt\n",
      "Model 'Good Nets (DR)' successfully loaded with 43 nets.\n"
     ]
    }
   ],
   "source": [
    "'''\n",
    "#sys.modules['__main__'].CustomNetwork_4 = CustomNetwork\n",
    "# Load saved DR models\n",
    "path_full = os.path.join(FITS_DIR, \"th_combined_full.pt\")\n",
    "path_bestmodels = os.path.join(FITS_DIR, \"th_combined_bestmodels.pt\")\n",
    "path_goodnets = os.path.join(FITS_DIR, \"th_combined_goodnets.pt\")\n",
    "\n",
    "th_full, _ = load_model_ensemble(path_full, NNTest_DR, name=\"Full Ensemble (DR)\")\n",
    "th_bestmodels, _ = load_model_ensemble(path_bestmodels, NNTest_DR, name=\"Best Models (DR)\")\n",
    "th_goodnets, _ = load_model_ensemble(path_goodnets, NNTest_DR, name=\"Good Nets (DR)\")\n",
    "\n",
    "# Prepare list of models for evaluation\n",
    "models_th = [th_full, th_bestmodels, th_goodnets] \n",
    "'''"
   ]
  },
  {
   "cell_type": "code",
   "execution_count": 21,
   "id": "d219d660",
   "metadata": {},
   "outputs": [
    {
     "name": "stdout",
     "output_type": "stream",
     "text": [
      "📂 Loading model from: /Users/higuera-admin/Documents/Programs/ldrdgff/Analysis/tests/fits_models/Test1/th_combined_goodnets.pt\n",
      "Model 'CLAS 6 GeV' successfully loaded with 45 nets.\n",
      "📂 Loading model from: /Users/higuera-admin/Documents/Programs/ldrdgff/Analysis/tests/fits_models/Test2/th_combined_goodnets.pt\n",
      "Model 'CLAS 6+11 GeV' successfully loaded with 40 nets.\n"
     ]
    }
   ],
   "source": [
    "#sys.modules['__main__'].CustomNetwork_4 = CustomNetwork\n",
    "FITS_DIR6 = '/Users/higuera-admin/Documents/Programs/ldrdgff/Analysis/tests/fits_models/Test1'\n",
    "FITS_DIR11 = '/Users/higuera-admin/Documents/Programs/ldrdgff/Analysis/tests/fits_models/Test2'\n",
    "# Load saved DR models\n",
    "path_CLAS6 = os.path.join(FITS_DIR6, \"th_combined_goodnets.pt\")\n",
    "path_CLAS11 = os.path.join(FITS_DIR11, \"th_combined_goodnets.pt\")\n",
    "\n",
    "th_CLAS6, _ = load_model_ensemble(path_CLAS6, NNTest_DR, name=\"CLAS 6 GeV\")\n",
    "th_CLAS11, _ = load_model_ensemble(path_CLAS11, NNTest_DR, name=\"CLAS 6+11 GeV\")\n",
    "\n",
    "# Prepare list of models for evaluation\n",
    "models_th = [th_CLAS6, th_CLAS11] "
   ]
  },
  {
   "cell_type": "code",
   "execution_count": 22,
   "id": "f8dae7dd",
   "metadata": {},
   "outputs": [],
   "source": [
    "ptts = []\n",
    "tm_list = np.linspace(0.1, 0.5, 10)\n",
    "\n",
    "for tm in tm_list:\n",
    "    ptb = g.dset[102][0].copy()\n",
    "    ptb.t = -tm\n",
    "    ptb.tm = tm\n",
    "    th15.prepare(ptb)\n",
    "    ptts.append(ptb)"
   ]
  },
  {
   "cell_type": "code",
   "execution_count": 23,
   "id": "9fc4944e",
   "metadata": {},
   "outputs": [
    {
     "name": "stdout",
     "output_type": "stream",
     "text": [
      "\n",
      "---- [CLAS 6 GeV - N/A] ----\n",
      "0.185, -0.500: 0.151 +- 0.432\n",
      "0.185, -0.456: 0.103 +- 0.398\n",
      "0.185, -0.411: 0.045 +- 0.382\n",
      "0.185, -0.367: -0.017 +- 0.390\n",
      "0.185, -0.322: -0.077 +- 0.410\n",
      "0.185, -0.278: -0.159 +- 0.443\n",
      "0.185, -0.233: -0.304 +- 0.560\n",
      "0.185, -0.189: -0.477 +- 0.775\n",
      "0.185, -0.144: -0.654 +- 1.043\n",
      "0.185, -0.100: -0.832 +- 1.326\n",
      "\n",
      "---- [CLAS 6+11 GeV - N/A] ----\n",
      "0.185, -0.500: 0.163 +- 0.533\n",
      "0.185, -0.456: 0.113 +- 0.437\n",
      "0.185, -0.411: 0.047 +- 0.360\n",
      "0.185, -0.367: -0.019 +- 0.320\n",
      "0.185, -0.322: -0.073 +- 0.333\n",
      "0.185, -0.278: -0.144 +- 0.370\n",
      "0.185, -0.233: -0.274 +- 0.450\n",
      "0.185, -0.189: -0.449 +- 0.574\n",
      "0.185, -0.144: -0.615 +- 0.779\n",
      "0.185, -0.100: -0.778 +- 1.021\n"
     ]
    },
    {
     "name": "stderr",
     "output_type": "stream",
     "text": [
      "/var/folders/qr/2k2591d90wjb4sqtmlttw7r40000gq/T/ipykernel_71230/2383417691.py:12: DeprecationWarning: Conversion of an array with ndim > 0 to a scalar is deprecated, and will error in future. Ensure you extract a single element from your array before performing this operation. (Deprecated NumPy 1.25.)\n",
      "  Ds.append(float(th_model.m.subtraction(pt).detach().numpy() * 18. / 25.))\n"
     ]
    }
   ],
   "source": [
    "D = []\n",
    "std_values = []\n",
    "net_indices = []\n",
    "\n",
    "for th_model in models_th:\n",
    "    print(\"\\n---- [{} - {}] ----\".format(th_model.name, th_model.description))\n",
    "    A = []\n",
    "    for pt in ptts[::-1]:\n",
    "        Ds = []\n",
    "        for i, net in enumerate(th_model.nets):\n",
    "            th_model.nn_model, th_model.nn_mean, th_model.nn_std = net\n",
    "            Ds.append(float(th_model.m.subtraction(pt).detach().numpy() * 18. / 25.))\n",
    "            th_model.cffs_evaluated = False\n",
    "        net_indices.append(i)\n",
    "        Ds = np.array(Ds)\n",
    "        D_std = Ds.std()\n",
    "        std_values.append(D_std)\n",
    "        print(\"{:.3f}, {:.3f}: {:.3f} +- {:.3f}\".format(pt.xB, pt.t, Ds.mean(), Ds.std()))\n",
    "        A.append((pt.tm, Ds.mean(), Ds.std()))\n",
    "    th_model.m.parameters['nnet'] = 'ALL'\n",
    "    D.append(A)"
   ]
  },
  {
   "cell_type": "code",
   "execution_count": 29,
   "id": "ef84f41b",
   "metadata": {},
   "outputs": [
    {
     "data": {
      "image/png": "[encoded data removed]",
      "text/plain": [
       "<Figure size 600x600 with 1 Axes>"
      ]
     },
     "metadata": {},
     "output_type": "display_data"
    }
   ],
   "source": [
    "# Comparison with KM15 model\n",
    "# Comparison plot for D-terms from DR and DR_4 models\n",
    "NPTS = 20\n",
    "ts = np.linspace(0, 0.6, NPTS)\n",
    "KMS = np.array([-(18./25.)*2.768/(1.+tm/1.204**2)**2 for tm in ts])\n",
    "CDS = np.array(D[0])\n",
    "CADS = np.array(D[1])\n",
    "\n",
    "\n",
    "fig, ax = plt.subplots(1, 1, figsize=[6, 6])\n",
    "ax.axhline(y=0, linewidth=0.5, color='k')\n",
    "ax.plot(ts, KMS, 'r-.', label='KM15 global fit')\n",
    "\n",
    "# Loop over loaded results to plot each D-term\n",
    "ax.errorbar(CDS[:, 0], CDS[:, 1], CDS[:, 2], linestyle='None', color='navy',\n",
    "            elinewidth=2, capsize=3, capthick=2, marker='o', label='CLAS 6 GeV') #H and E with DR\n",
    "ax.errorbar(CADS[:, 0] + 0.01, CADS[:, 1], CADS[:, 2], linestyle='None',\n",
    "            elinewidth=2, capsize=3, capthick=2, marker='o', color='indianred', label='CLAS 6+11 GeV')\n",
    "\n",
    "ax.set_xlim(0.0, 0.6)\n",
    "ax.set_ylim(-4.5, 1)\n",
    "ax.legend(loc=4, handlelength=2.5,\n",
    "          prop=matplotlib.font_manager.FontProperties(size=\"large\")).set_frame_on(False)\n",
    "ax.set_xlabel(r'$-t \\quad [{\\rm GeV}^2]$', fontsize=16)\n",
    "ax.set_ylabel(r'$D^{Q}(t)$', fontsize=16)\n",
    "ax.tick_params(axis='both', which='major', labelsize=16)\n",
    "ax.tick_params(axis='both', which='minor', labelsize=16)\n",
    "ax.xaxis.set_major_locator(matplotlib.ticker.MultipleLocator(0.1))\n",
    "ax.xaxis.set_minor_locator(matplotlib.ticker.MultipleLocator(0.02))\n",
    "ax.yaxis.set_major_locator(matplotlib.ticker.MultipleLocator(1.0))\n",
    "ax.yaxis.set_minor_locator(matplotlib.ticker.MultipleLocator(0.2))\n",
    "\n",
    "plt.tight_layout()\n",
    "\n",
    "fig.savefig(os.path.join(comparison_dir, \"D-ter_Comp_CLAS.png\"))"
   ]
  }
 ],
 "metadata": {
  "kernelspec": {
   "display_name": "gepard-env-NNP",
   "language": "python",
   "name": "python3"
  },
  "language_info": {
   "codemirror_mode": {
    "name": "ipython",
    "version": 3
   },
   "file_extension": ".py",
   "mimetype": "text/x-python",
   "name": "python",
   "nbconvert_exporter": "python",
   "pygments_lexer": "ipython3",
   "version": "3.11.9"
  }
 },
 "nbformat": 4,
 "nbformat_minor": 5
}

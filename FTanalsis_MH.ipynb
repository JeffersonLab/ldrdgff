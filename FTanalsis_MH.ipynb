{
 "cells": [
  {
   "cell_type": "markdown",
   "metadata": {},
   "source": [
    "<center><font size=5><b>Extracting harmonics of $\\phi$-dependent data in Gepard</b></font></center>"
   ]
  },
  {
   "cell_type": "code",
   "execution_count": 1,
   "metadata": {},
   "outputs": [],
   "source": [
    "%load_ext autoreload\n",
    "%autoreload 2"
   ]
  },
  {
   "cell_type": "code",
   "execution_count": 2,
   "metadata": {},
   "outputs": [],
   "source": [
    "import sys \n",
    "import numpy as np\n",
    "import pandas as pd\n",
    "import matplotlib\n",
    "import matplotlib.pyplot as plt\n",
    "import gepard as g"
   ]
  },
  {
   "cell_type": "code",
   "execution_count": 3,
   "metadata": {},
   "outputs": [
    {
     "name": "stdout",
     "output_type": "stream",
     "text": [
      "0.9.11\n"
     ]
    }
   ],
   "source": [
    "import gdevel as gd\n",
    "print(gd.__version__)"
   ]
  },
  {
   "cell_type": "code",
   "execution_count": 4,
   "metadata": {},
   "outputs": [
    {
     "name": "stdout",
     "output_type": "stream",
     "text": [
      "Current git branch is \"devel\" and revision hash is 6a29f18c7246e4172fd8540814631d1b4fdb0f4a\n"
     ]
    }
   ],
   "source": [
    "import os\n",
    "import subprocess\n",
    "branch = subprocess.check_output(['git', '-C', os.path.dirname(gd.__file__),\n",
    "                                  'branch', '--show-current']).decode('ascii').strip()\n",
    "revhash = subprocess.check_output(['git', '-C', os.path.dirname(gd.__file__),\n",
    "                                   'rev-parse', 'HEAD']).decode('ascii').strip()\n",
    "print('Current git branch is \"{}\" and revision hash is {}'.format(branch, revhash))"
   ]
  },
  {
   "cell_type": "code",
   "execution_count": 5,
   "metadata": {},
   "outputs": [],
   "source": [
    "def plotpts(bin1, bin2=None, replica=None):\n",
    "    \"\"\"Plot points in bin with errorbars.\"\"\"\n",
    "    fig, ax = plt.subplots(1,1, figsize=[6,6])\n",
    "    ax.errorbar(bin1.phi.values, bin1.val.values, bin1.err.values, color='blue', linestyle='None',\n",
    "               capsize=3)\n",
    "    if isinstance(bin2, pd.DataFrame):\n",
    "        ax.errorbar(bin2.phi.values, bin2.val.values, bin2.err.values, color='red', linestyle='None',\n",
    "                   capsize=2)\n",
    "    if isinstance(replica, np.ndarray):\n",
    "        ax.plot(bin1.phi.values, replica, marker='o', color='red', linestyle='None')\n",
    "    ax.set_ylim(-0.5, 0.5)\n",
    "    ax.set_xlim(-np.pi, np.pi)\n",
    "    fig.savefig('fig')"
   ]
  },
  {
   "cell_type": "code",
   "execution_count": 6,
   "metadata": {},
   "outputs": [],
   "source": [
    "def plotFT(dfs, cosmax, sinmax):\n",
    "    \"\"\"Plot harmonics with with errorbars.\"\"\"\n",
    "    CM = cosmax\n",
    "    SM = sinmax\n",
    "    fig, ax = plt.subplots(1,1, figsize=[6,6])\n",
    "    shift = 0\n",
    "    for df in dfs:\n",
    "        c = df.val.values[:CM+1]\n",
    "        delc = df.err.values[:CM+1]\n",
    "        s = df.val.values[CM+1:CM+SM+1]\n",
    "        dels = df.err.values[CM+1:CM+SM+1]\n",
    "        ax.errorbar(np.arange(CM+1)+shift, c, delc, linestyle='None', capsize=3,color='blue')\n",
    "        ax.errorbar(np.arange(-1,-SM-1,-1)+shift, s, dels, linestyle='None', capsize=3, color='red')\n",
    "        shift += 0.05\n",
    "    ax.axhline(linestyle='-.', color='green', linewidth=0.5)\n",
    "    ax.axvline(linestyle='-.', color='green', linewidth=0.5)\n",
    "    #ax.legend(loc=4, fontsize=14).draw_frame(1)\n",
    "    fig.savefig('fig')"
   ]
  },
  {
   "cell_type": "markdown",
   "metadata": {},
   "source": [
    "## Basic extraction of harmonics (CLAS $A_{\\rm LU}$) "
   ]
  },
  {
   "cell_type": "code",
   "execution_count": 7,
   "metadata": {},
   "outputs": [],
   "source": [
    "#sys.path.append('/Users/higuera-admin/Documents/Programs/ldrdgff/gepard/src/gepard/')\n",
    "sys.path.append('/Users/higuera-admin/Documents/Programs/ldrdgff/gepardDevel/gdevel/src/gdevel')\n",
    "import mydatafiles\n",
    "from mydatafiles import ep2epgamma\n",
    "\n",
    "mydset = gd.data.loaddata(mydatafiles)\n",
    "mydset.update(gd.data.loaddata(ep2epgamma))"
   ]
  },
  {
   "cell_type": "code",
   "execution_count": 8,
   "metadata": {},
   "outputs": [
    {
     "name": "stdout",
     "output_type": "stream",
     "text": [
      "npt x obs     collab  FTn    id  ref.        \n",
      "----------------------------------------------\n",
      "117 x BTSA    CLAS    N/A    270 priv comunication\n",
      "----------------------------------------------\n",
      "TOTAL = 117\n"
     ]
    }
   ],
   "source": [
    "fitpoints = mydset[270] #mydset[191] # mydset[192] \n",
    "g.describe_data(fitpoints)"
   ]
  },
  {
   "cell_type": "code",
   "execution_count": 9,
   "metadata": {},
   "outputs": [],
   "source": [
    "#dfALU = g.dset[139].df()[['Q2', 'xB', 'tm', 'phi', 'val', 'errstat', 'errsyst']]\n",
    "dfALL = mydset[270].df()[['Q2', 'xB', 'tm', 'phi', 'val', 'errstat', 'errsyst']]"
   ]
  },
  {
   "cell_type": "markdown",
   "metadata": {},
   "source": [
    "Gepard's FT routines below work with `err` as uncertainty to be FT-transformed. This\n",
    "should be only statistical uncertainty, while systematic uncertainty should be added\n",
    "in quadrature after FT (if you don't decide to do some even more sophisticated approach).\n",
    "Thus we rename column with statistical uncertainties as `err`:"
   ]
  },
  {
   "cell_type": "code",
   "execution_count": 10,
   "metadata": {},
   "outputs": [],
   "source": [
    "dfALL.rename(columns={'errstat': 'err'}, inplace=True)"
   ]
  },
  {
   "cell_type": "markdown",
   "metadata": {},
   "source": [
    "Now we detect bins. (This will not work like this if mean values of bin kinematic variables are not exactly the same. In that case you have to write more sophisticated algorithm or define bins manually.)"
   ]
  },
  {
   "cell_type": "code",
   "execution_count": 11,
   "metadata": {},
   "outputs": [
    {
     "name": "stdout",
     "output_type": "stream",
     "text": [
      "Number of all bins = 12\n"
     ]
    }
   ],
   "source": [
    "all_bins = dfALL[['Q2', 'xB', 'tm']].drop_duplicates()\n",
    "bins = all_bins.reset_index(drop=True)\n",
    "print('Number of all bins = {}'.format(len(bins)))"
   ]
  },
  {
   "cell_type": "markdown",
   "metadata": {},
   "source": [
    "Organize bins in Python directory. (This will include `phi`, `val` and `err` as well.)"
   ]
  },
  {
   "cell_type": "code",
   "execution_count": 12,
   "metadata": {},
   "outputs": [],
   "source": [
    "binALL = {}\n",
    "for k in range(len(bins)):\n",
    "    # binALU[k] = dfALU[np.all(dfALU[['Q2', 'xB', 'tm']] == bins.iloc[k], axis=1)]\n",
    "    binALL[k] = dfALL[dfALL[['Q2', 'xB', 'tm']].values == bins.iloc[k].values].drop_duplicates()"
   ]
  },
  {
   "cell_type": "markdown",
   "metadata": {},
   "source": [
    "There is a Gepard function `FTFMC` that will, for given bin, by default extract all harmonics using discrete Fourier transform and Monte Carlo uncertainty propagation."
   ]
  },
  {
   "cell_type": "code",
   "execution_count": 13,
   "metadata": {},
   "outputs": [
    {
     "data": {
      "text/html": [
       "<div>\n",
       "<style scoped>\n",
       "    .dataframe tbody tr th:only-of-type {\n",
       "        vertical-align: middle;\n",
       "    }\n",
       "\n",
       "    .dataframe tbody tr th {\n",
       "        vertical-align: top;\n",
       "    }\n",
       "\n",
       "    .dataframe thead th {\n",
       "        text-align: right;\n",
       "    }\n",
       "</style>\n",
       "<table border=\"1\" class=\"dataframe\">\n",
       "  <thead>\n",
       "    <tr style=\"text-align: right;\">\n",
       "      <th></th>\n",
       "      <th>Q2</th>\n",
       "      <th>xB</th>\n",
       "      <th>tm</th>\n",
       "      <th>phi</th>\n",
       "      <th>val</th>\n",
       "      <th>err</th>\n",
       "      <th>errsyst</th>\n",
       "    </tr>\n",
       "  </thead>\n",
       "  <tbody>\n",
       "    <tr>\n",
       "      <th>36</th>\n",
       "      <td>1.62846</td>\n",
       "      <td>0.1084</td>\n",
       "      <td>0.18806</td>\n",
       "      <td>2.956947</td>\n",
       "      <td>0.117650</td>\n",
       "      <td>0.080989</td>\n",
       "      <td>0.0</td>\n",
       "    </tr>\n",
       "    <tr>\n",
       "      <th>37</th>\n",
       "      <td>1.62846</td>\n",
       "      <td>0.1084</td>\n",
       "      <td>0.18806</td>\n",
       "      <td>2.658850</td>\n",
       "      <td>0.253484</td>\n",
       "      <td>0.065399</td>\n",
       "      <td>0.0</td>\n",
       "    </tr>\n",
       "    <tr>\n",
       "      <th>38</th>\n",
       "      <td>1.62846</td>\n",
       "      <td>0.1084</td>\n",
       "      <td>0.18806</td>\n",
       "      <td>2.405074</td>\n",
       "      <td>0.192774</td>\n",
       "      <td>0.058784</td>\n",
       "      <td>0.0</td>\n",
       "    </tr>\n",
       "    <tr>\n",
       "      <th>39</th>\n",
       "      <td>1.62846</td>\n",
       "      <td>0.1084</td>\n",
       "      <td>0.18806</td>\n",
       "      <td>2.152344</td>\n",
       "      <td>0.260911</td>\n",
       "      <td>0.064167</td>\n",
       "      <td>0.0</td>\n",
       "    </tr>\n",
       "    <tr>\n",
       "      <th>40</th>\n",
       "      <td>1.62846</td>\n",
       "      <td>0.1084</td>\n",
       "      <td>0.18806</td>\n",
       "      <td>1.898318</td>\n",
       "      <td>0.224466</td>\n",
       "      <td>0.079402</td>\n",
       "      <td>0.0</td>\n",
       "    </tr>\n",
       "    <tr>\n",
       "      <th>41</th>\n",
       "      <td>1.62846</td>\n",
       "      <td>0.1084</td>\n",
       "      <td>0.18806</td>\n",
       "      <td>1.351199</td>\n",
       "      <td>0.309001</td>\n",
       "      <td>0.087044</td>\n",
       "      <td>0.0</td>\n",
       "    </tr>\n",
       "    <tr>\n",
       "      <th>42</th>\n",
       "      <td>1.62846</td>\n",
       "      <td>0.1084</td>\n",
       "      <td>0.18806</td>\n",
       "      <td>-1.213143</td>\n",
       "      <td>0.216047</td>\n",
       "      <td>0.088857</td>\n",
       "      <td>0.0</td>\n",
       "    </tr>\n",
       "    <tr>\n",
       "      <th>43</th>\n",
       "      <td>1.62846</td>\n",
       "      <td>0.1084</td>\n",
       "      <td>0.18806</td>\n",
       "      <td>-1.938834</td>\n",
       "      <td>0.121211</td>\n",
       "      <td>0.082017</td>\n",
       "      <td>0.0</td>\n",
       "    </tr>\n",
       "    <tr>\n",
       "      <th>44</th>\n",
       "      <td>1.62846</td>\n",
       "      <td>0.1084</td>\n",
       "      <td>0.18806</td>\n",
       "      <td>-2.191296</td>\n",
       "      <td>0.183222</td>\n",
       "      <td>0.055484</td>\n",
       "      <td>0.0</td>\n",
       "    </tr>\n",
       "    <tr>\n",
       "      <th>45</th>\n",
       "      <td>1.62846</td>\n",
       "      <td>0.1084</td>\n",
       "      <td>0.18806</td>\n",
       "      <td>-2.437632</td>\n",
       "      <td>0.273477</td>\n",
       "      <td>0.057138</td>\n",
       "      <td>0.0</td>\n",
       "    </tr>\n",
       "    <tr>\n",
       "      <th>46</th>\n",
       "      <td>1.62846</td>\n",
       "      <td>0.1084</td>\n",
       "      <td>0.18806</td>\n",
       "      <td>-2.798583</td>\n",
       "      <td>0.147889</td>\n",
       "      <td>0.055113</td>\n",
       "      <td>0.0</td>\n",
       "    </tr>\n",
       "  </tbody>\n",
       "</table>\n",
       "</div>"
      ],
      "text/plain": [
       "         Q2      xB       tm       phi       val       err  errsyst\n",
       "36  1.62846  0.1084  0.18806  2.956947  0.117650  0.080989      0.0\n",
       "37  1.62846  0.1084  0.18806  2.658850  0.253484  0.065399      0.0\n",
       "38  1.62846  0.1084  0.18806  2.405074  0.192774  0.058784      0.0\n",
       "39  1.62846  0.1084  0.18806  2.152344  0.260911  0.064167      0.0\n",
       "40  1.62846  0.1084  0.18806  1.898318  0.224466  0.079402      0.0\n",
       "41  1.62846  0.1084  0.18806  1.351199  0.309001  0.087044      0.0\n",
       "42  1.62846  0.1084  0.18806 -1.213143  0.216047  0.088857      0.0\n",
       "43  1.62846  0.1084  0.18806 -1.938834  0.121211  0.082017      0.0\n",
       "44  1.62846  0.1084  0.18806 -2.191296  0.183222  0.055484      0.0\n",
       "45  1.62846  0.1084  0.18806 -2.437632  0.273477  0.057138      0.0\n",
       "46  1.62846  0.1084  0.18806 -2.798583  0.147889  0.055113      0.0"
      ]
     },
     "execution_count": 13,
     "metadata": {},
     "output_type": "execute_result"
    }
   ],
   "source": [
    "binALL[4]"
   ]
  },
  {
   "cell_type": "code",
   "execution_count": 14,
   "metadata": {},
   "outputs": [],
   "source": [
    "dfFT = gd.data.FTFMC(binALL[5])"
   ]
  },
  {
   "cell_type": "markdown",
   "metadata": {},
   "source": [
    "Be careful. Dataframe that is returned still has `phi` values but they don't make sense here (they are just kept for later cross-check). First (N-1/2) values are cosine harmonics, and rest are sine:"
   ]
  },
  {
   "cell_type": "code",
   "execution_count": 15,
   "metadata": {},
   "outputs": [
    {
     "data": {
      "text/html": [
       "<div>\n",
       "<style scoped>\n",
       "    .dataframe tbody tr th:only-of-type {\n",
       "        vertical-align: middle;\n",
       "    }\n",
       "\n",
       "    .dataframe tbody tr th {\n",
       "        vertical-align: top;\n",
       "    }\n",
       "\n",
       "    .dataframe thead th {\n",
       "        text-align: right;\n",
       "    }\n",
       "</style>\n",
       "<table border=\"1\" class=\"dataframe\">\n",
       "  <thead>\n",
       "    <tr style=\"text-align: right;\">\n",
       "      <th></th>\n",
       "      <th>phi</th>\n",
       "      <th>val</th>\n",
       "      <th>err</th>\n",
       "    </tr>\n",
       "  </thead>\n",
       "  <tbody>\n",
       "    <tr>\n",
       "      <th>0</th>\n",
       "      <td>3.006106</td>\n",
       "      <td>-9.113381</td>\n",
       "      <td>10.439743</td>\n",
       "    </tr>\n",
       "    <tr>\n",
       "      <th>1</th>\n",
       "      <td>2.757121</td>\n",
       "      <td>-19.063962</td>\n",
       "      <td>18.517838</td>\n",
       "    </tr>\n",
       "    <tr>\n",
       "      <th>2</th>\n",
       "      <td>2.503556</td>\n",
       "      <td>-16.685425</td>\n",
       "      <td>13.751681</td>\n",
       "    </tr>\n",
       "    <tr>\n",
       "      <th>3</th>\n",
       "      <td>2.230658</td>\n",
       "      <td>-9.373749</td>\n",
       "      <td>7.530195</td>\n",
       "    </tr>\n",
       "    <tr>\n",
       "      <th>4</th>\n",
       "      <td>1.551277</td>\n",
       "      <td>-2.468438</td>\n",
       "      <td>1.988220</td>\n",
       "    </tr>\n",
       "    <tr>\n",
       "      <th>5</th>\n",
       "      <td>-0.117269</td>\n",
       "      <td>-54.338831</td>\n",
       "      <td>45.212404</td>\n",
       "    </tr>\n",
       "    <tr>\n",
       "      <th>6</th>\n",
       "      <td>-2.186810</td>\n",
       "      <td>-73.943672</td>\n",
       "      <td>62.536364</td>\n",
       "    </tr>\n",
       "    <tr>\n",
       "      <th>7</th>\n",
       "      <td>-2.483446</td>\n",
       "      <td>-54.937749</td>\n",
       "      <td>47.945244</td>\n",
       "    </tr>\n",
       "    <tr>\n",
       "      <th>8</th>\n",
       "      <td>-2.738893</td>\n",
       "      <td>-23.480856</td>\n",
       "      <td>21.577764</td>\n",
       "    </tr>\n",
       "    <tr>\n",
       "      <th>9</th>\n",
       "      <td>-3.004183</td>\n",
       "      <td>-4.532309</td>\n",
       "      <td>4.532819</td>\n",
       "    </tr>\n",
       "  </tbody>\n",
       "</table>\n",
       "</div>"
      ],
      "text/plain": [
       "        phi        val        err\n",
       "0  3.006106  -9.113381  10.439743\n",
       "1  2.757121 -19.063962  18.517838\n",
       "2  2.503556 -16.685425  13.751681\n",
       "3  2.230658  -9.373749   7.530195\n",
       "4  1.551277  -2.468438   1.988220\n",
       "5 -0.117269 -54.338831  45.212404\n",
       "6 -2.186810 -73.943672  62.536364\n",
       "7 -2.483446 -54.937749  47.945244\n",
       "8 -2.738893 -23.480856  21.577764\n",
       "9 -3.004183  -4.532309   4.532819"
      ]
     },
     "execution_count": 15,
     "metadata": {},
     "output_type": "execute_result"
    }
   ],
   "source": [
    "dfFT"
   ]
  },
  {
   "cell_type": "markdown",
   "metadata": {},
   "source": [
    "So here above sin($\\phi$) harmonic is in row index 5. You can plot all of them:"
   ]
  },
  {
   "cell_type": "code",
   "execution_count": 16,
   "metadata": {},
   "outputs": [
    {
     "data": {
      "image/png": "[encoded data removed]",
      "text/plain": [
       "<Figure size 600x600 with 1 Axes>"
      ]
     },
     "metadata": {},
     "output_type": "display_data"
    }
   ],
   "source": [
    "plotFT([dfFT], cosmax=4, sinmax=4)"
   ]
  },
  {
   "cell_type": "markdown",
   "metadata": {},
   "source": [
    "`FTFMC(df, inverse=True)` will do the inverse FT so you can check the whole procedure for consistency:"
   ]
  },
  {
   "cell_type": "code",
   "execution_count": 17,
   "metadata": {},
   "outputs": [
    {
     "data": {
      "image/png": "[encoded data removed]",
      "text/plain": [
       "<Figure size 600x600 with 1 Axes>"
      ]
     },
     "metadata": {},
     "output_type": "display_data"
    }
   ],
   "source": [
    "plotpts(binALL[2], gd.data.FTFMC(gd.data.FTFMC(binALL[2]), inverse=True))"
   ]
  },
  {
   "cell_type": "markdown",
   "metadata": {},
   "source": [
    "There is also a somewhat experimental function `FTanalyse` that can take a set of bins and determine by cross-validation procedure how many harmonics are \"visible\" in this data:"
   ]
  },
  {
   "cell_type": "code",
   "execution_count": 18,
   "metadata": {},
   "outputs": [
    {
     "name": "stdout",
     "output_type": "stream",
     "text": [
      "Highest extractable cos harmonic = 0.583 +- 0.862\n",
      "Highest extractable sin harmonic = 0.500 +- 0.500\n",
      "\n"
     ]
    }
   ],
   "source": [
    "cosmax, sinmax = gd.data.FTanalyse(binALL)"
   ]
  },
  {
   "cell_type": "markdown",
   "metadata": {},
   "source": [
    "For final harmonic analysis we increase the number of Monte Carlo samples and store the results in two new dataframe columns:"
   ]
  },
  {
   "cell_type": "code",
   "execution_count": 19,
   "metadata": {},
   "outputs": [],
   "source": [
    "for k in range(len(bins)):\n",
    "    dfFT = gd.data.FTFMC(binALL[k], nsamples = 3000)\n",
    "    binALL[k]['FTval'] = pd.Series(dfFT['val'].values, index=binALL[k].index)\n",
    "    binALL[k]['FTerr'] = pd.Series(dfFT['err'].values, index=binALL[k].index)"
   ]
  },
  {
   "cell_type": "code",
   "execution_count": 20,
   "metadata": {},
   "outputs": [
    {
     "data": {
      "text/html": [
       "<div>\n",
       "<style scoped>\n",
       "    .dataframe tbody tr th:only-of-type {\n",
       "        vertical-align: middle;\n",
       "    }\n",
       "\n",
       "    .dataframe tbody tr th {\n",
       "        vertical-align: top;\n",
       "    }\n",
       "\n",
       "    .dataframe thead th {\n",
       "        text-align: right;\n",
       "    }\n",
       "</style>\n",
       "<table border=\"1\" class=\"dataframe\">\n",
       "  <thead>\n",
       "    <tr style=\"text-align: right;\">\n",
       "      <th></th>\n",
       "      <th>Q2</th>\n",
       "      <th>xB</th>\n",
       "      <th>tm</th>\n",
       "      <th>phi</th>\n",
       "      <th>val</th>\n",
       "      <th>err</th>\n",
       "      <th>errsyst</th>\n",
       "      <th>FTval</th>\n",
       "      <th>FTerr</th>\n",
       "    </tr>\n",
       "  </thead>\n",
       "  <tbody>\n",
       "    <tr>\n",
       "      <th>36</th>\n",
       "      <td>1.62846</td>\n",
       "      <td>0.1084</td>\n",
       "      <td>0.18806</td>\n",
       "      <td>2.956947</td>\n",
       "      <td>0.117650</td>\n",
       "      <td>0.080989</td>\n",
       "      <td>0.0</td>\n",
       "      <td>27.463443</td>\n",
       "      <td>31.360586</td>\n",
       "    </tr>\n",
       "    <tr>\n",
       "      <th>37</th>\n",
       "      <td>1.62846</td>\n",
       "      <td>0.1084</td>\n",
       "      <td>0.18806</td>\n",
       "      <td>2.658850</td>\n",
       "      <td>0.253484</td>\n",
       "      <td>0.065399</td>\n",
       "      <td>0.0</td>\n",
       "      <td>49.476009</td>\n",
       "      <td>56.988672</td>\n",
       "    </tr>\n",
       "    <tr>\n",
       "      <th>38</th>\n",
       "      <td>1.62846</td>\n",
       "      <td>0.1084</td>\n",
       "      <td>0.18806</td>\n",
       "      <td>2.405074</td>\n",
       "      <td>0.192774</td>\n",
       "      <td>0.058784</td>\n",
       "      <td>0.0</td>\n",
       "      <td>36.255698</td>\n",
       "      <td>41.954549</td>\n",
       "    </tr>\n",
       "    <tr>\n",
       "      <th>39</th>\n",
       "      <td>1.62846</td>\n",
       "      <td>0.1084</td>\n",
       "      <td>0.18806</td>\n",
       "      <td>2.152344</td>\n",
       "      <td>0.260911</td>\n",
       "      <td>0.064167</td>\n",
       "      <td>0.0</td>\n",
       "      <td>20.474800</td>\n",
       "      <td>23.717302</td>\n",
       "    </tr>\n",
       "    <tr>\n",
       "      <th>40</th>\n",
       "      <td>1.62846</td>\n",
       "      <td>0.1084</td>\n",
       "      <td>0.18806</td>\n",
       "      <td>1.898318</td>\n",
       "      <td>0.224466</td>\n",
       "      <td>0.079402</td>\n",
       "      <td>0.0</td>\n",
       "      <td>7.960390</td>\n",
       "      <td>9.215140</td>\n",
       "    </tr>\n",
       "    <tr>\n",
       "      <th>41</th>\n",
       "      <td>1.62846</td>\n",
       "      <td>0.1084</td>\n",
       "      <td>0.18806</td>\n",
       "      <td>1.351199</td>\n",
       "      <td>0.309001</td>\n",
       "      <td>0.087044</td>\n",
       "      <td>0.0</td>\n",
       "      <td>1.726583</td>\n",
       "      <td>1.912076</td>\n",
       "    </tr>\n",
       "    <tr>\n",
       "      <th>42</th>\n",
       "      <td>1.62846</td>\n",
       "      <td>0.1084</td>\n",
       "      <td>0.18806</td>\n",
       "      <td>-1.213143</td>\n",
       "      <td>0.216047</td>\n",
       "      <td>0.088857</td>\n",
       "      <td>0.0</td>\n",
       "      <td>3.056693</td>\n",
       "      <td>2.418610</td>\n",
       "    </tr>\n",
       "    <tr>\n",
       "      <th>43</th>\n",
       "      <td>1.62846</td>\n",
       "      <td>0.1084</td>\n",
       "      <td>0.18806</td>\n",
       "      <td>-1.938834</td>\n",
       "      <td>0.121211</td>\n",
       "      <td>0.082017</td>\n",
       "      <td>0.0</td>\n",
       "      <td>4.325158</td>\n",
       "      <td>3.401981</td>\n",
       "    </tr>\n",
       "    <tr>\n",
       "      <th>44</th>\n",
       "      <td>1.62846</td>\n",
       "      <td>0.1084</td>\n",
       "      <td>0.18806</td>\n",
       "      <td>-2.191296</td>\n",
       "      <td>0.183222</td>\n",
       "      <td>0.055484</td>\n",
       "      <td>0.0</td>\n",
       "      <td>3.569525</td>\n",
       "      <td>2.802702</td>\n",
       "    </tr>\n",
       "    <tr>\n",
       "      <th>45</th>\n",
       "      <td>1.62846</td>\n",
       "      <td>0.1084</td>\n",
       "      <td>0.18806</td>\n",
       "      <td>-2.437632</td>\n",
       "      <td>0.273477</td>\n",
       "      <td>0.057138</td>\n",
       "      <td>0.0</td>\n",
       "      <td>1.888443</td>\n",
       "      <td>1.490557</td>\n",
       "    </tr>\n",
       "    <tr>\n",
       "      <th>46</th>\n",
       "      <td>1.62846</td>\n",
       "      <td>0.1084</td>\n",
       "      <td>0.18806</td>\n",
       "      <td>-2.798583</td>\n",
       "      <td>0.147889</td>\n",
       "      <td>0.055113</td>\n",
       "      <td>0.0</td>\n",
       "      <td>0.547828</td>\n",
       "      <td>0.426361</td>\n",
       "    </tr>\n",
       "  </tbody>\n",
       "</table>\n",
       "</div>"
      ],
      "text/plain": [
       "         Q2      xB       tm       phi       val       err  errsyst  \\\n",
       "36  1.62846  0.1084  0.18806  2.956947  0.117650  0.080989      0.0   \n",
       "37  1.62846  0.1084  0.18806  2.658850  0.253484  0.065399      0.0   \n",
       "38  1.62846  0.1084  0.18806  2.405074  0.192774  0.058784      0.0   \n",
       "39  1.62846  0.1084  0.18806  2.152344  0.260911  0.064167      0.0   \n",
       "40  1.62846  0.1084  0.18806  1.898318  0.224466  0.079402      0.0   \n",
       "41  1.62846  0.1084  0.18806  1.351199  0.309001  0.087044      0.0   \n",
       "42  1.62846  0.1084  0.18806 -1.213143  0.216047  0.088857      0.0   \n",
       "43  1.62846  0.1084  0.18806 -1.938834  0.121211  0.082017      0.0   \n",
       "44  1.62846  0.1084  0.18806 -2.191296  0.183222  0.055484      0.0   \n",
       "45  1.62846  0.1084  0.18806 -2.437632  0.273477  0.057138      0.0   \n",
       "46  1.62846  0.1084  0.18806 -2.798583  0.147889  0.055113      0.0   \n",
       "\n",
       "        FTval      FTerr  \n",
       "36  27.463443  31.360586  \n",
       "37  49.476009  56.988672  \n",
       "38  36.255698  41.954549  \n",
       "39  20.474800  23.717302  \n",
       "40   7.960390   9.215140  \n",
       "41   1.726583   1.912076  \n",
       "42   3.056693   2.418610  \n",
       "43   4.325158   3.401981  \n",
       "44   3.569525   2.802702  \n",
       "45   1.888443   1.490557  \n",
       "46   0.547828   0.426361  "
      ]
     },
     "execution_count": 20,
     "metadata": {},
     "output_type": "execute_result"
    }
   ],
   "source": [
    "binALL[4]"
   ]
  },
  {
   "cell_type": "code",
   "execution_count": 21,
   "metadata": {},
   "outputs": [],
   "source": [
    "def s1(bin):\n",
    "    \"\"\"Take just first sine harmonic of bin with error.\"\"\"\n",
    "    s1ind = int((len(bin)-1)/2.) + 1 # index of first sine harmonic\n",
    "    return bin[['Q2', 'xB', 'tm', 'FTval', 'FTerr']].iloc[s1ind]"
   ]
  },
  {
   "cell_type": "markdown",
   "metadata": {},
   "source": [
    "We unite all bins, taking value and uncertainty of just calculated first sine harmonic (FTval and FTerr), and\n",
    "we also calculate average and maximal systematic error for given bin. One can than choose which of the two\n",
    "to take as the proper systematic error of the harmonic (more sophisticated treatment could be implemented here by the person who understands systematics better)."
   ]
  },
  {
   "cell_type": "code",
   "execution_count": 22,
   "metadata": {},
   "outputs": [],
   "source": [
    "FTs1 = pd.DataFrame([pd.concat([s1(binALL[k]),\n",
    "                                pd.Series([binALL[k]['errsyst'].mean(),\n",
    "                                                     binALL[k]['errsyst'].max()], index=['avgsyst', 'maxsyst'])])\n",
    "                     for k in bins.index]).reset_index(drop=True)"
   ]
  },
  {
   "cell_type": "markdown",
   "metadata": {},
   "source": [
    "This (after maybe some reduction of significant digits) can now be saved into the new Gepard datafile with appropriate preamble:"
   ]
  },
  {
   "cell_type": "code",
   "execution_count": 23,
   "metadata": {},
   "outputs": [],
   "source": [
    "FTs1['FTval'] = FTs1['FTval'].map(lambda x: '%.3f' % x)\n",
    "FTs1['FTerr'] = FTs1['FTerr'].map(lambda x: '%.3f' % x)\n",
    "FTs1['FTerrsyst'] = FTs1['avgsyst'].map(lambda x: '%.3f' % x)   # choose maxsyst to be conservative"
   ]
  },
  {
   "cell_type": "code",
   "execution_count": 24,
   "metadata": {},
   "outputs": [
    {
     "name": "stdout",
     "output_type": "stream",
     "text": [
      "     Q2      xB      tm    FTval  FTerr FTerrsyst\n",
      "1.70482 0.11924 0.70807   18.130 20.553     0.000\n",
      "1.92428 0.21290 0.79784   -0.240  0.376     0.000\n",
      "1.68406 0.11481 0.32030    0.002  0.424     0.000\n",
      "1.96658 0.18729 0.33239    1.076  4.487     0.000\n",
      "1.62846 0.10840 0.18806    3.057  2.419     0.000\n",
      "1.97822 0.15907 0.19850  -47.137 44.917     0.000\n",
      "2.89131 0.21358 0.85765   17.042 16.934     0.000\n",
      "4.01413 0.37889 1.05297   -0.343  0.246     0.000\n",
      "2.70265 0.18294 0.40095   -0.093  0.657     0.000\n",
      "3.62497 0.29778 0.41792   -7.646  6.155     0.000\n",
      "2.56688 0.16542 0.22138 -115.313 64.979     0.000\n",
      "3.26336 0.23598 0.24356   10.126 18.169     0.000\n"
     ]
    }
   ],
   "source": [
    "print(FTs1[['Q2', 'xB', 'tm', 'FTval', 'FTerr', 'FTerrsyst']].to_string(index=False))"
   ]
  },
  {
   "cell_type": "markdown",
   "metadata": {},
   "source": [
    "Such procedure was followed to create the mydatafiles ID=182 (some lines are commented out\n",
    "in that datafile):"
   ]
  },
  {
   "cell_type": "code",
   "execution_count": 24,
   "metadata": {},
   "outputs": [
    {
     "name": "stdout",
     "output_type": "stream",
     "text": [
      "     Q2      xB      tm    val  errstat  errsyst\n",
      "1.17098 0.09829 0.29026  0.085    0.039      0.0\n",
      "1.23055 0.23951 0.34267 -0.885    1.082      0.0\n",
      "1.16069 0.09807 0.55942  0.156    0.032      0.0\n",
      "1.20139 0.16075 0.58099  0.004    0.097      0.0\n",
      "1.22297 0.23502 0.63939  0.229    0.735      0.0\n",
      "1.16971 0.09702 1.05316  0.766    0.185      0.0\n",
      "1.60576 0.15599 0.31425 -0.246    0.479      0.0\n",
      "1.54972 0.11304 0.56128  0.318    0.147      0.0\n",
      "1.59735 0.16169 0.58224  0.285    0.257      0.0\n",
      "1.60562 0.25015 0.64407  0.160    0.071      0.0\n",
      "2.01347 0.14258 0.29988  0.281    0.328      0.0\n",
      "2.12931 0.19307 0.32879  0.630    0.188      0.0\n",
      "2.00625 0.14243 0.56632  0.273    0.244      0.0\n",
      "2.10837 0.19527 0.59712  0.098    0.287      0.0\n",
      "2.11950 0.31098 0.67478  0.049    0.127      0.0\n",
      "2.14984 0.29989 1.25910  0.133    0.165      0.0\n",
      "2.68499 0.18571 0.32106  0.295    0.379      0.0\n",
      "2.84675 0.25492 0.36339  0.519    0.336      0.0\n",
      "2.66791 0.18912 0.57114 -0.318    0.657      0.0\n",
      "2.83258 0.25276 0.63345  0.258    0.087      0.0\n",
      "2.83377 0.38373 0.74324  0.189    0.112      0.0\n",
      "2.81817 0.26031 1.32531 -0.077    0.204      0.0\n",
      "2.86773 0.38398 1.42667  0.129    0.217      0.0\n",
      "3.73571 0.26564 0.37634  0.709    1.276      0.0\n",
      "3.80230 0.27187 0.64104  0.334    0.669      0.0\n",
      "4.09765 0.40697 0.78327 -0.051    1.571      0.0\n",
      "4.15476 0.40258 1.71891  0.161    0.100      0.0\n",
      "5.94066 0.45489 0.41789 -0.636    0.858      0.0\n",
      "5.73104 0.41530 0.81801  0.342    0.132      0.0\n",
      "5.88232 0.43608 1.83320  0.622    0.194      0.0\n",
      "7.16866 0.61524 2.73428  0.276    0.842      0.0\n"
     ]
    }
   ],
   "source": [
    "print(mydset[182].df()[['Q2', 'xB', 'tm', 'val', 'errstat', 'errsyst']].to_string(index=False))"
   ]
  }
 ],
 "metadata": {
  "kernelspec": {
   "display_name": "gepard-env-NNP",
   "language": "python",
   "name": "python3"
  },
  "language_info": {
   "codemirror_mode": {
    "name": "ipython",
    "version": 3
   },
   "file_extension": ".py",
   "mimetype": "text/x-python",
   "name": "python",
   "nbconvert_exporter": "python",
   "pygments_lexer": "ipython3",
   "version": "3.11.9"
  }
 },
 "nbformat": 4,
 "nbformat_minor": 2
}

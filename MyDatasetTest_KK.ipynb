{
 "cells": [
  {
   "cell_type": "markdown",
   "metadata": {},
   "source": [
    "## Fitting with our dataset"
   ]
  },
  {
   "cell_type": "code",
   "execution_count": 1,
   "metadata": {},
   "outputs": [],
   "source": [
    "%matplotlib inline\n",
    "%load_ext autoreload\n",
    "%autoreload 2"
   ]
  },
  {
   "cell_type": "code",
   "execution_count": 2,
   "metadata": {},
   "outputs": [
    {
     "name": "stdout",
     "output_type": "stream",
     "text": [
      "Gepard version = 0.9.11b0\n"
     ]
    }
   ],
   "source": [
    "import os\n",
    "import sys\n",
    "import gepard as g\n",
    "import gepard.plots as gplots\n",
    "from gepard.fits import GLO15new, AUTIpts, ALUIpts\n",
    "print('Gepard version = {}'.format(g.__version__))"
   ]
  },
  {
   "cell_type": "code",
   "execution_count": 3,
   "metadata": {},
   "outputs": [],
   "source": [
    "#import gepard as g\n",
    "#print(g.__file__)\n",
    "\n",
    "import torch\n",
    "import numpy as np \n",
    "#np.set_printoptions(legacy='1.25')\n",
    "import matplotlib\n",
    "import matplotlib.pyplot as plt\n",
    "import shelve, logging, copy\n",
    "logging.basicConfig(level=logging.ERROR) \n",
    "import pandas as pd \n",
    "from scipy.integrate import quad\n",
    "from scipy.interpolate import InterpolatedUnivariateSpline\n",
    "from scipy.stats import norm\n"
   ]
  },
  {
   "cell_type": "code",
   "execution_count": 4,
   "metadata": {},
   "outputs": [],
   "source": [
    "# To have nice LaTeX fonts on plots\n",
    "plt.rc('text', usetex=True)\n",
    "params = {'text.latex.preamble' : '\\n'.join([r'\\usepackage{amssymb}', r'\\usepackage{amsmath}'])}\n",
    "plt.rcParams.update(params)"
   ]
  },
  {
   "cell_type": "code",
   "execution_count": 20,
   "metadata": {},
   "outputs": [
    {
     "name": "stdout",
     "output_type": "stream",
     "text": [
      "npt x obs     collab  FTn    id  ref.        \n",
      "----------------------------------------------\n",
      "10 x ALU     CLAS    -1     94  arXiv:1501.07052\n",
      "----------------------------------------------\n",
      "TOTAL = 10\n"
     ]
    }
   ],
   "source": [
    "g.describe_data(g.dset[94])"
   ]
  },
  {
   "cell_type": "code",
   "execution_count": 5,
   "metadata": {},
   "outputs": [
    {
     "name": "stdout",
     "output_type": "stream",
     "text": [
      "npt x obs     collab  FTn    id  ref.        \n",
      "----------------------------------------------\n",
      "166 x ALU     CLAS    N/A    91  arXiv:1501.07052\n",
      "2640 x XUU     CLAS    N/A    98  arXiv:1504.02009\n",
      "----------------------------------------------\n",
      "TOTAL = 2806\n"
     ]
    }
   ],
   "source": [
    "fitpoints =  g.dset[98] + g.dset[91] #g.dset[102] it worked #g.dset[7] it worked # g.dset[6] didn't work # + g.dset[8] it did work # + g.dset[82] # mydset[325] + mydset[98], dset[91] did not work\n",
    "g.describe_data(fitpoints)"
   ]
  },
  {
   "cell_type": "code",
   "execution_count": 22,
   "metadata": {},
   "outputs": [
    {
     "name": "stdout",
     "output_type": "stream",
     "text": [
      "npt x obs     collab  FTn    id  ref.        \n",
      "----------------------------------------------\n",
      "10 x ALU     CLAS    -1     94  arXiv:1501.07052\n",
      "----------------------------------------------\n",
      "TOTAL = 10\n"
     ]
    }
   ],
   "source": [
    "fitpoints =  g.dset[94]    # To make life simple\n",
    "g.describe_data(fitpoints)"
   ]
  },
  {
   "cell_type": "code",
   "execution_count": 6,
   "metadata": {},
   "outputs": [],
   "source": [
    "# For easier manipulations we transform some datasets to pandas frames\n",
    "#data = mydset[325]\n",
    "#BSA = data.df()  # Beam Spin Asymmetry CLAS 2022\n",
    "\n",
    "data = g.dset[91] #[8] #[82]\n",
    "BSA = data.df() \n",
    "\n",
    "data = g.dset[98]\n",
    "BSS = data.df()  # Cross Section CLAS 2015 "
   ]
  },
  {
   "cell_type": "markdown",
   "metadata": {},
   "source": [
    "### Fit with NN  - Q2 dependence of CFFs"
   ]
  },
  {
   "cell_type": "code",
   "execution_count": 13,
   "metadata": {},
   "outputs": [],
   "source": [
    "class NN(g.model.NeuralModel, g.eff.KellyEFF, g.dvcs.BM10tw2):\n",
    "\n",
    "    def build_net(self):\n",
    "            '''Overriding the default architecture and optimizer'''\n",
    "            nn_model = torch.nn.Sequential(\n",
    "                    torch.nn.Linear(3, 23),\n",
    "                    torch.nn.ReLU(),\n",
    "                    torch.nn.Linear(23, 37),\n",
    "                    torch.nn.ReLU(),\n",
    "                    torch.nn.Linear(37, 19),\n",
    "                    torch.nn.ReLU(),\n",
    "                    torch.nn.Linear(19, len(self.output_layer))\n",
    "                )\n",
    "            optimizer = torch.optim.Rprop(nn_model.parameters(), lr=0.01)\n",
    "            return nn_model, optimizer"
   ]
  },
  {
   "cell_type": "code",
   "execution_count": 23,
   "metadata": {},
   "outputs": [
    {
     "name": "stdout",
     "output_type": "stream",
     "text": [
      "npt x obs     collab  FTn    id  ref.        \n",
      "----------------------------------------------\n",
      "10 x ALU     CLAS    -1     94  arXiv:1501.07052\n",
      "----------------------------------------------\n",
      "TOTAL = 10\n",
      "None\n"
     ]
    }
   ],
   "source": [
    "g.describe_data(fitpoints)\n",
    "th = NN(output_layer=['ImH', 'ImE', 'ImHt'], q2in=True)#'ImH', 'ReH', 'ImE', 'ReE', 'ImHt', 'ReHt', 'ImEt', 'ReEt'])#\n",
    "print(th.useDR)"
   ]
  },
  {
   "cell_type": "code",
   "execution_count": 24,
   "metadata": {},
   "outputs": [
    {
     "name": "stdout",
     "output_type": "stream",
     "text": [
      "\n",
      "Epoch  10: train error = 3.2456 test error = 5.1101 -\n",
      "Epoch  20: train error = 1.0444 test error = 5.5378 +\n",
      "Epoch  30: train error = 0.4389 test error = 7.6208 +\n",
      "Epoch  40: train error = 0.2747 test error = 5.3100 +\n",
      "Epoch  50: train error = 0.0938 test error = 4.7405 -\n",
      "Epoch  60: train error = 0.0705 test error = 5.0928 +\n",
      "Epoch  70: train error = 0.0662 test error = 5.0932 +\n",
      "Epoch  80: train error = 0.0628 test error = 5.1825 +\n",
      "Epoch  90: train error = 0.0604 test error = 5.2428 +\n",
      "Epoch 100: train error = 0.0589 test error = 5.2353 +\n",
      "No improvement for 5 batches. Stopping early.\n",
      "Net 0 --> test_err = 4.740548376365378\n"
     ]
    }
   ],
   "source": [
    "f = g.fitter.NeuralFitter(fitpoints, th, nnets=1, batchlen=10, regularization='L2', lx_lambda=0.002)\n",
    "#f.fitgood()\n",
    "f.fit()"
   ]
  },
  {
   "cell_type": "code",
   "execution_count": 25,
   "metadata": {},
   "outputs": [
    {
     "data": {
      "text/plain": [
       "(23.832529921944662, 10, 0.008057532676180701)"
      ]
     },
     "execution_count": 25,
     "metadata": {},
     "output_type": "execute_result"
    }
   ],
   "source": [
    "th.chisq(fitpoints)"
   ]
  },
  {
   "cell_type": "markdown",
   "metadata": {},
   "source": [
    "### Fit with NN - no Q2 dependence"
   ]
  },
  {
   "cell_type": "code",
   "execution_count": 26,
   "metadata": {},
   "outputs": [],
   "source": [
    "class NN(g.model.NeuralModel, g.eff.KellyEFF, g.dvcs.BM10tw2):\n",
    "\n",
    "    def build_net(self):\n",
    "            '''Overriding the default architecture and optimizer'''\n",
    "            nn_model = torch.nn.Sequential(\n",
    "                    torch.nn.Linear(2, 23),\n",
    "                    torch.nn.ReLU(),\n",
    "                    torch.nn.Linear(23, 37),\n",
    "                    torch.nn.ReLU(),\n",
    "                    torch.nn.Linear(37, 19),\n",
    "                    torch.nn.ReLU(),\n",
    "                    torch.nn.Linear(19, len(self.output_layer))\n",
    "                )\n",
    "            optimizer = torch.optim.Rprop(nn_model.parameters(), lr=0.01)\n",
    "            return nn_model, optimizer"
   ]
  },
  {
   "cell_type": "code",
   "execution_count": 27,
   "metadata": {},
   "outputs": [
    {
     "name": "stdout",
     "output_type": "stream",
     "text": [
      "npt x obs     collab  FTn    id  ref.        \n",
      "----------------------------------------------\n",
      "10 x ALU     CLAS    -1     94  arXiv:1501.07052\n",
      "----------------------------------------------\n",
      "TOTAL = 10\n",
      "None\n"
     ]
    }
   ],
   "source": [
    "g.describe_data(fitpoints)\n",
    "th = NN(output_layer=['ImH', 'ImE', 'ImHt'], q2in=False)#'ImH', 'ReH', 'ImE', 'ReE', 'ImHt', 'ReHt', 'ImEt', 'ReEt'])#\n",
    "print(th.useDR)"
   ]
  },
  {
   "cell_type": "code",
   "execution_count": 28,
   "metadata": {},
   "outputs": [
    {
     "name": "stdout",
     "output_type": "stream",
     "text": [
      "\n",
      "Epoch  10: train error = 2.6676 test error = 4.3236 -\n",
      "Epoch  20: train error = 0.9335 test error = 5.6773 +\n",
      "Epoch  30: train error = 0.8481 test error = 9.8181 +\n",
      "Epoch  40: train error = 0.7032 test error = 25.9396 +\n",
      "Epoch  50: train error = 0.6050 test error = 28.5054 +\n",
      "Epoch  60: train error = 0.4879 test error = 35.8781 +\n",
      "No improvement for 5 batches. Stopping early.\n",
      "Net 0 --> test_err = 4.3236270375964105\n"
     ]
    }
   ],
   "source": [
    "f = g.fitter.NeuralFitter(fitpoints, th, nnets=1, batchlen=10, regularization='L2', lx_lambda=0.002)\n",
    "#f.fitgood()\n",
    "f.fit()"
   ]
  },
  {
   "cell_type": "code",
   "execution_count": 29,
   "metadata": {},
   "outputs": [
    {
     "data": {
      "text/plain": [
       "(113.9823641380506, 10, 0.0)"
      ]
     },
     "execution_count": 29,
     "metadata": {},
     "output_type": "execute_result"
    }
   ],
   "source": [
    "th.chisq(fitpoints)"
   ]
  },
  {
   "cell_type": "markdown",
   "metadata": {},
   "source": [
    "### Fit $\\phi$-dependent data with NN  - Q2 dependence of CFFs"
   ]
  },
  {
   "cell_type": "code",
   "execution_count": 30,
   "metadata": {},
   "outputs": [
    {
     "name": "stdout",
     "output_type": "stream",
     "text": [
      "npt x obs     collab  FTn    id  ref.        \n",
      "----------------------------------------------\n",
      "166 x ALU     CLAS    N/A    91  arXiv:1501.07052\n",
      "----------------------------------------------\n",
      "TOTAL = 166\n"
     ]
    }
   ],
   "source": [
    "fitpoints =  g.dset[91]\n",
    "g.describe_data(fitpoints)"
   ]
  },
  {
   "cell_type": "code",
   "execution_count": 31,
   "metadata": {},
   "outputs": [],
   "source": [
    "class NN(g.model.NeuralModel, g.eff.KellyEFF, g.dvcs.BM10tw2):\n",
    "\n",
    "    def build_net(self):\n",
    "            '''Overriding the default architecture and optimizer'''\n",
    "            nn_model = torch.nn.Sequential(\n",
    "                    torch.nn.Linear(3, 23),\n",
    "                    torch.nn.ReLU(),\n",
    "                    torch.nn.Linear(23, 37),\n",
    "                    torch.nn.ReLU(),\n",
    "                    torch.nn.Linear(37, 19),\n",
    "                    torch.nn.ReLU(),\n",
    "                    torch.nn.Linear(19, len(self.output_layer))\n",
    "                )\n",
    "            optimizer = torch.optim.Rprop(nn_model.parameters(), lr=0.01)\n",
    "            return nn_model, optimizer"
   ]
  },
  {
   "cell_type": "code",
   "execution_count": 32,
   "metadata": {},
   "outputs": [
    {
     "name": "stdout",
     "output_type": "stream",
     "text": [
      "npt x obs     collab  FTn    id  ref.        \n",
      "----------------------------------------------\n",
      "166 x ALU     CLAS    N/A    91  arXiv:1501.07052\n",
      "----------------------------------------------\n",
      "TOTAL = 166\n",
      "None\n"
     ]
    }
   ],
   "source": [
    "g.describe_data(fitpoints)\n",
    "th = NN(output_layer=['ImH', 'ImE', 'ImHt'], q2in=True)#'ImH', 'ReH', 'ImE', 'ReE', 'ImHt', 'ReHt', 'ImEt', 'ReEt'])#\n",
    "print(th.useDR)"
   ]
  },
  {
   "cell_type": "code",
   "execution_count": 33,
   "metadata": {},
   "outputs": [
    {
     "name": "stdout",
     "output_type": "stream",
     "text": [
      "\n",
      "Epoch  10: train error = 2.3330 test error = 2.7404 -\n",
      "Epoch  20: train error = 2.1260 test error = 2.8656 +\n",
      "Epoch  30: train error = 2.0212 test error = 3.3957 +\n",
      "Epoch  40: train error = 1.9349 test error = 4.2639 +\n",
      "Epoch  50: train error = 1.8188 test error = 5.2953 +\n",
      "Epoch  60: train error = 1.7972 test error = 5.5116 +\n",
      "No improvement for 5 batches. Stopping early.\n",
      "Net 0 --> test_err = 2.740393877029419\n"
     ]
    }
   ],
   "source": [
    "f = g.fitter.NeuralFitter(fitpoints, th, nnets=1, batchlen=10, regularization='L2', lx_lambda=0.002)\n",
    "#f.fitgood()\n",
    "f.fit()"
   ]
  },
  {
   "cell_type": "code",
   "execution_count": 34,
   "metadata": {},
   "outputs": [
    {
     "data": {
      "text/plain": [
       "(297.5345699060113, 166, 1.5858557800285666e-09)"
      ]
     },
     "execution_count": 34,
     "metadata": {},
     "output_type": "execute_result"
    }
   ],
   "source": [
    "th.chisq(fitpoints)"
   ]
  },
  {
   "cell_type": "code",
   "execution_count": 35,
   "metadata": {},
   "outputs": [
    {
     "data": {
      "text/plain": [
       "(9.853285455460773, 10, 0.45345809908245815)"
      ]
     },
     "execution_count": 35,
     "metadata": {},
     "output_type": "execute_result"
    }
   ],
   "source": [
    "th.chisq(g.dset[94])"
   ]
  },
  {
   "cell_type": "markdown",
   "metadata": {},
   "source": [
    "(Interestingly, this rather slow fit to phi-dependent data describes harmonics better than the fit to harmonics.)"
   ]
  },
  {
   "cell_type": "markdown",
   "metadata": {},
   "source": [
    "### Use shelve to store the trained models"
   ]
  },
  {
   "cell_type": "code",
   "execution_count": 14,
   "metadata": {},
   "outputs": [],
   "source": [
    "# create a shelf file \n",
    "shelve_file = shelve.open(\"Models\") \n",
    "\n",
    "# Store num list in shelf file \n",
    "shelve_file['NoDR'] = th.nets\n",
    "  \n",
    "# now, we simply close the shelf file. \n",
    "shelve_file.close()"
   ]
  },
  {
   "cell_type": "code",
   "execution_count": 14,
   "metadata": {},
   "outputs": [],
   "source": [
    "shelve_file = shelve.open(\"Models\") \n",
    "  \n",
    "NoDR = shelve_file['NoDR']\n",
    "\n",
    "th4 = NNTest(output_layer=['ImH', 'ReH'])\n",
    "th4.nets = NoDR\n",
    "\n",
    "# print keys list \n",
    "#print(f\"Keys = {list(shelve_file.keys())}\") \n",
    "  \n",
    "# now, we simply close the shelf file. \n",
    "shelve_file.close() "
   ]
  }
 ],
 "metadata": {
  "kernelspec": {
   "display_name": "genv (Gepard)",
   "language": "python",
   "name": "genv"
  },
  "language_info": {
   "codemirror_mode": {
    "name": "ipython",
    "version": 3
   },
   "file_extension": ".py",
   "mimetype": "text/x-python",
   "name": "python",
   "nbconvert_exporter": "python",
   "pygments_lexer": "ipython3",
   "version": "3.12.5"
  }
 },
 "nbformat": 4,
 "nbformat_minor": 4
}
